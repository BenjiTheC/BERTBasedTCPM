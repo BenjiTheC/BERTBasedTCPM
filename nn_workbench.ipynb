{
 "cells": [
  {
   "cell_type": "code",
   "execution_count": null,
   "metadata": {
    "tags": []
   },
   "outputs": [],
   "source": [
    "\"\"\" Work bench for tuning NN model.\"\"\"\n",
    "%load_ext tensorboard\n",
    "\n",
    "import os\n",
    "import json\n",
    "from pprint import pprint\n",
    "from datetime import datetime\n",
    "from collections import defaultdict\n",
    "\n",
    "from dotenv import load_dotenv\n",
    "\n",
    "\n",
    "import numpy as np\n",
    "import pandas as pd\n",
    "\n",
    "import matplotlib.pyplot as plt\n",
    "import seaborn as sns\n",
    "\n",
    "from transformers import (\n",
    "    BertTokenizer,\n",
    "    AutoTokenizer,\n",
    "    AutoConfig,\n",
    "    TFDistilBertModel,\n",
    "    TFBertModel, \n",
    "    TFTrainingArguments\n",
    ")\n",
    "import tensorflow as tf\n",
    "\n",
    "from sklearn.preprocessing import StandardScaler\n",
    "from sklearn.model_selection import train_test_split\n",
    "\n",
    "from tc_data import TopCoder\n",
    "from imbalanced_regression_metrics import PrecisionRecallFscoreForRegression, TFPrecisionRecallFscoreForRegression\n",
    "from boosting_learn import EnsembleTrainer\n",
    "\n",
    "load_dotenv()\n",
    "pd.set_option('display.max_rows', 800)"
   ]
  },
  {
   "cell_type": "code",
   "execution_count": null,
   "metadata": {},
   "outputs": [],
   "source": [
    "def build_seq_reg_model(num_hidden_layer=1, layer_dim=512, name='a_model', input_shape=(36,)):\n",
    "    \"\"\" Build sequential model with given hidden layer and dimensions\"\"\"\n",
    "    return tf.keras.Sequential([\n",
    "        tf.keras.layers.InputLayer(input_shape=input_shape, name='input_layer'),\n",
    "        *[tf.keras.layers.Dense(layer_dim, activation='relu', name=f'layer_{i}') for i in range(num_hidden_layer)],\n",
    "        tf.keras.layers.Dense(1, name='reg_unit')\n",
    "    ], name=name)"
   ]
  },
  {
   "cell_type": "code",
   "execution_count": null,
   "metadata": {},
   "outputs": [],
   "source": [
    "# tc = TopCoder()"
   ]
  },
  {
   "cell_type": "markdown",
   "metadata": {},
   "source": [
    "```python\n",
    "meta_inputs = tf.keras.Input(shape=(36,), name='meta_data_input')\n",
    "bert_inputs = tf.keras.Input(shape=(48,), name='pool_bert_input')\n",
    "\n",
    "concat = tf.keras.layers.concatenate([bert_inputs, meta_inputs], name='concat')\n",
    "dense = tf.keras.layers.Dense(512, activation='relu', name='pre_regression')(concat)\n",
    "\n",
    "score_output = tf.keras.layers.Dense(4, name='score')(dense)\n",
    "registration_output = tf.keras.layers.Dense(1, name='registration')(dense)\n",
    "sub_reg_output = tf.keras.layers.Dense(1, name='sub_reg_ratio')(dense)\n",
    "\n",
    "mtl_model = tf.keras.Model(inputs=[bert_inputs, meta_inputs], outputs=[score_output, registration_output, sub_reg_output])\n",
    "\n",
    "tf.keras.utils.plot_model(mtl_model, to_file='model_arch/tmp.png', show_shapes=True)\n",
    "```"
   ]
  },
  {
   "cell_type": "markdown",
   "metadata": {},
   "source": [
    "Both number of hidden layer and hidden layer dimension can impact the trying result, I tried several combination of `(num_of_hidden_layer, dimension_of_a_hidden_layer)` to find the best scoring. And using `EarlyStopping` monitor to prevent overfitting."
   ]
  },
  {
   "cell_type": "code",
   "execution_count": null,
   "metadata": {},
   "outputs": [],
   "source": [
    "layer_dimension = [\n",
    "    (1, 1024),\n",
    "    (2, 512),\n",
    "    (4, 256),\n",
    "    (8, 128),\n",
    "]\n",
    "monitor_threshold = {\n",
    "    'avg_score': 1,\n",
    "    'number_of_registration': 3,\n",
    "    'sub_reg_ratio': 0.05,\n",
    "}\n",
    "prf_measurer = {\n",
    "    'avg_score': PrecisionRecallFscoreForRegression(tE=0.6, tL=6, c=90, extreme='low', decay=0.1),\n",
    "    'number_of_registration': PrecisionRecallFscoreForRegression(tE=0.6, tL=10, c=30, extreme='high'),\n",
    "    'sub_reg_ratio': PrecisionRecallFscoreForRegression(tE=0.6, tL=0.1, c=0.25, extreme='high'),\n",
    "}\n",
    "\n",
    "# prf_score = TFPrecisionRecallFscoreForRegression(tE=0.6, tL=6, c=90, extreme='low', decay=0.1)\n",
    "# prf_reg = TFPrecisionRecallFscoreForRegression(tE=0.6, tL=10, c=30, extreme='high')\n",
    "# prf_sub = TFPrecisionRecallFscoreForRegression(tE=0.6, tL=0.1, c=0.25, extreme='high')\n",
    "\n",
    "training_result = {}\n",
    "for target in ('avg_score', 'number_of_registration', 'sub_reg_ratio'):\n",
    "    for dv in (0, 1):\n",
    "        X_train, y_train = EnsembleTrainer.read_dataset(target, 'train_resample', dv)\n",
    "        X_test, y_test = EnsembleTrainer.read_dataset(target, 'test', dv)\n",
    "\n",
    "        model_lst = [build_seq_reg_model(ld[0], ld[1], name=f'{target}_dv{dv}_ld{ld[0]}{ld[1]}', input_shape=(X_test.shape[1],)) for i, ld in enumerate(layer_dimension)]\n",
    "        model_res = []\n",
    "        for model in model_lst:\n",
    "            print(f'Training model {model.name}')\n",
    "            \n",
    "            model.compile(\n",
    "                optimizer=tf.keras.optimizers.Adam(2e-5),\n",
    "                loss='mse',\n",
    "                metrics=['mse', 'mae']\n",
    "            )\n",
    "            earlystop_cb = tf.keras.callbacks.EarlyStopping(monitor='val_mae', min_delta=monitor_threshold[target], patience=8, verbose=1)\n",
    "            \n",
    "            history = model.fit(X_train, y_train, validation_split=0.2, epochs=80, callbacks=[earlystop_cb])\n",
    "            result = model.evaluate(X_test, y_test, return_dict=True)\n",
    "            \n",
    "            prf = prf_measurer[target]\n",
    "            y_pred = model.predict(X_test).reshape(-1)\n",
    "            result.update(\n",
    "                precision=prf.precision(y_test, y_pred),\n",
    "                recall=prf.recall(y_test, y_pred),\n",
    "                fscore=prf.recall(y_test, y_pred),\n",
    "            )\n",
    "            \n",
    "            model_res.append((model.name, result, history))\n",
    "            \n",
    "        best_model_name, best_model_result, best_model_hist = sorted(model_res, key=lambda mres: mres[1]['mae'])[0]\n",
    "        training_result[(target, dv)] = (best_model_name, best_model_result, pd.DataFrame(best_model_hist.history))\n",
    "        \n",
    "        "
   ]
  },
  {
   "cell_type": "code",
   "execution_count": null,
   "metadata": {
    "scrolled": false
   },
   "outputs": [],
   "source": [
    "test_score_df = pd.DataFrame.from_dict({k: v[1] for k, v in training_result.items()})\n",
    "test_score_df.columns.names = ['target', 'dv']\n",
    "test_score_df"
   ]
  },
  {
   "cell_type": "code",
   "execution_count": null,
   "metadata": {},
   "outputs": [],
   "source": [
    "df_dct = defaultdict(dict)\n",
    "for target in ('avg_score', 'number_of_registration', 'sub_reg_ratio'):\n",
    "    for dv in (0, 1):\n",
    "        df_dct[target][f'contain_dv_{bool(dv)}'] = training_result[(target, dv)][1]['mae']\n",
    "        \n",
    "mae_by_targetdv = pd.DataFrame.from_dict(df_dct, orient='index')"
   ]
  },
  {
   "cell_type": "code",
   "execution_count": null,
   "metadata": {},
   "outputs": [],
   "source": [
    "mae_by_targetdv"
   ]
  },
  {
   "cell_type": "code",
   "execution_count": null,
   "metadata": {},
   "outputs": [],
   "source": [
    "with sns.axes_style('darkgrid'):\n",
    "    fig, axes = plt.subplots(3, 2, figsize=(8, 9), dpi=200)\n",
    "    for row, target in enumerate(('avg_score', 'number_of_registration', 'sub_reg_ratio')):\n",
    "        for col, dv in enumerate((0, 1)):\n",
    "            ax = axes[row, col]\n",
    "            attr = 'loss'\n",
    "            df = training_result[(target, dv)][2]\n",
    "            res = training_result[(target, dv)][1]\n",
    "            \n",
    "            sns.lineplot(\n",
    "                x=df.index,\n",
    "                y=df[attr],\n",
    "                label=f'train_{attr}',\n",
    "                ax=ax\n",
    "            )\n",
    "            sns.lineplot(\n",
    "                x=df.index,\n",
    "                y=df[f'val_{attr}'],\n",
    "                label=f'val_{attr}',\n",
    "                ax=ax\n",
    "            )\n",
    "            ax.axhline(y=res[attr], xmax=0.3, color='red')\n",
    "            ax.text(0, res[attr], round(res[attr], 3))\n",
    "            \n",
    "            ax.set_title(f'{target}|docvec: {bool(dv)}')\n",
    "            \n",
    "    fig.tight_layout()"
   ]
  },
  {
   "cell_type": "code",
   "execution_count": null,
   "metadata": {},
   "outputs": [],
   "source": []
  },
  {
   "cell_type": "code",
   "execution_count": null,
   "metadata": {},
   "outputs": [],
   "source": []
  },
  {
   "cell_type": "code",
   "execution_count": null,
   "metadata": {},
   "outputs": [],
   "source": []
  },
  {
   "cell_type": "code",
   "execution_count": null,
   "metadata": {},
   "outputs": [],
   "source": [
    "X_train, y_train = EnsembleTrainer.read_dataset('avg_score', 'train_resample', 1)\n",
    "X_test, y_test = EnsembleTrainer.read_dataset('avg_score', 'test', 1)\n",
    "\n",
    "X_train.shape, y_train.shape, X_test.shape, y_test.shape"
   ]
  },
  {
   "cell_type": "code",
   "execution_count": null,
   "metadata": {},
   "outputs": [],
   "source": [
    "prf_score = TFPrecisionRecallFscoreForRegression(tE=0.6, tL=6, c=90, extreme='low', decay=0.1)\n",
    "prf_reg = TFPrecisionRecallFscoreForRegression(tE=0.6, tL=10, c=30, extreme='high')\n",
    "prf_sub = TFPrecisionRecallFscoreForRegression(tE=0.6, tL=0.1, c=0.25, extreme='high')"
   ]
  },
  {
   "cell_type": "code",
   "execution_count": null,
   "metadata": {
    "tags": []
   },
   "outputs": [],
   "source": [
    "model = build_seq_reg_model(5, 768, name='some_model', input_shape=(X_test.shape[1],))\n",
    "model.summary()"
   ]
  },
  {
   "cell_type": "code",
   "execution_count": null,
   "metadata": {},
   "outputs": [],
   "source": [
    "model.compile(\n",
    "    optimizer=tf.keras.optimizers.Adam(2e-5),\n",
    "    loss='mse',\n",
    "    metrics=['mse', 'mae']\n",
    ")"
   ]
  },
  {
   "cell_type": "code",
   "execution_count": null,
   "metadata": {
    "tags": []
   },
   "outputs": [],
   "source": [
    "earlystop_cb = tf.keras.callbacks.EarlyStopping(monitor='val_loss', min_delta=3, patience=10, verbose=1)\n",
    "\n",
    "history = model.fit(x=X_train, y=y_train, validation_split=0.2, epochs=150, callbacks=[earlystop_cb])"
   ]
  },
  {
   "cell_type": "code",
   "execution_count": null,
   "metadata": {
    "tags": []
   },
   "outputs": [],
   "source": [
    "result = model.evaluate(X_test, y_test, return_dict=True)\n",
    "result"
   ]
  },
  {
   "cell_type": "code",
   "execution_count": null,
   "metadata": {},
   "outputs": [],
   "source": [
    "y_pred = model.predict(X_test).reshape(-1)"
   ]
  },
  {
   "cell_type": "code",
   "execution_count": null,
   "metadata": {},
   "outputs": [],
   "source": [
    "prf_score.precision(y_test, y_pred), prf_score.recall(y_test, y_pred), prf_score.fscore(y_test, y_pred)"
   ]
  },
  {
   "cell_type": "code",
   "execution_count": null,
   "metadata": {},
   "outputs": [],
   "source": [
    "with sns.axes_style('white'):\n",
    "    fig = plt.figure(figsize=(4, 4), dpi=200)\n",
    "    ax = fig.add_axes([0.1, 0.1, 0.8, 0.8])\n",
    "    sns.scatterplot(\n",
    "        x=y_test,\n",
    "        y=y_pred,\n",
    "        s=8,\n",
    "        alpha=0.75,\n",
    "        linewidth=0.5,\n",
    "        ax=ax\n",
    "    )\n",
    "    sns.lineplot(x=[60, 100], y=[60, 100], color='red')\n",
    "    ax.axhline(90, color='#AFAFAF', linewidth=0.75)\n",
    "    ax.axvline(90, color='#AFAFAF', linewidth=0.75)\n",
    "    ax.set_xlabel('Y_true')\n",
    "    ax.set_ylabel('Y_pred')"
   ]
  },
  {
   "cell_type": "code",
   "execution_count": null,
   "metadata": {},
   "outputs": [],
   "source": [
    "train_hist = pd.DataFrame(history.history)"
   ]
  },
  {
   "cell_type": "code",
   "execution_count": null,
   "metadata": {},
   "outputs": [],
   "source": [
    "with sns.axes_style('whitegrid'):\n",
    "    fig = plt.figure(figsize=(8, 6), dpi=200)\n",
    "    ax = fig.add_axes([0.1, 0.1, 0.8, 0.8])\n",
    "    sns.lineplot(\n",
    "        x=train_hist.index,\n",
    "        y=train_hist.mae,\n",
    "        ax=ax,\n",
    "        label='train_mae'\n",
    "    )\n",
    "    sns.lineplot(\n",
    "        x=train_hist.index,\n",
    "        y=train_hist.val_mae,\n",
    "        ax=ax,\n",
    "        label='val_mae'\n",
    "    )\n",
    "    # sns.lineplot(\n",
    "    #     x=train_hist.index,\n",
    "    #     y=train_hist.val_precision,\n",
    "    #     ax=ax,\n",
    "    #     label='val_precision'\n",
    "    # )\n",
    "    ax.set_xticks(list(range(20)))\n",
    "    # ax.set_yticks(list(range(0, 500, 50)))\n",
    "    # ax.set_ylim(top=500, bottom=0)\n",
    "    ax.set_yticks(list(range(0, 50, 5)))\n",
    "    ax.set_ylim(0, 100)\n",
    "#     ax.set_yticks(sorted([*[i for i in range(0, 10000, 2000)], *[i for i in range(1, 1000, 99)]]))"
   ]
  },
  {
   "cell_type": "code",
   "execution_count": null,
   "metadata": {},
   "outputs": [],
   "source": [
    "(\n",
    "    prf.precision(y_test, y_pred),\n",
    "    prf.recall(y_true=y_test, y_pred=y_pred),\n",
    "    prf.fscore(y_test, y_pred)\n",
    ")"
   ]
  },
  {
   "cell_type": "code",
   "execution_count": null,
   "metadata": {},
   "outputs": [],
   "source": [
    "build_seq_reg_model(1, 1024, input_shape=(136,)).name"
   ]
  },
  {
   "cell_type": "code",
   "execution_count": null,
   "metadata": {},
   "outputs": [],
   "source": [
    "sorted((2,1,3), reverse=True)"
   ]
  },
  {
   "cell_type": "code",
   "execution_count": null,
   "metadata": {},
   "outputs": [],
   "source": []
  }
 ],
 "metadata": {
  "kernelspec": {
   "display_name": "Python (BERT TCPM)",
   "language": "python",
   "name": "bert_tcpm"
  },
  "language_info": {
   "codemirror_mode": {
    "name": "ipython",
    "version": 3
   },
   "file_extension": ".py",
   "mimetype": "text/x-python",
   "name": "python",
   "nbconvert_exporter": "python",
   "pygments_lexer": "ipython3",
   "version": "3.7.8"
  }
 },
 "nbformat": 4,
 "nbformat_minor": 4
}
