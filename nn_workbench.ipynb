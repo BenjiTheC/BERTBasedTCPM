{
 "cells": [
  {
   "cell_type": "code",
   "execution_count": null,
   "metadata": {},
   "outputs": [],
   "source": [
    "\"\"\" Work bench for tuning NN model.\"\"\"\n",
    "%load_ext tensorboard\n",
    "\n",
    "import os\n",
    "import json\n",
    "from pprint import pprint\n",
    "from datetime import datetime\n",
    "\n",
    "from dotenv import load_dotenv\n",
    "\n",
    "\n",
    "import numpy as np\n",
    "import pandas as pd\n",
    "\n",
    "import matplotlib.pyplot as plt\n",
    "import seaborn as sns\n",
    "\n",
    "from transformers import BertTokenizer, AutoTokenizer, AutoConfig, TFDistilBertModel, TFBertModel, TFTrainingArguments\n",
    "import tensorflow as tf\n",
    "\n",
    "from sklearn.preprocessing import StandardScaler\n",
    "from sklearn.model_selection import train_test_split\n",
    "\n",
    "from tc_data import TopCoder\n",
    "\n",
    "load_dotenv()\n",
    "pd.set_option('display.max_rows', 800)"
   ]
  },
  {
   "cell_type": "code",
   "execution_count": null,
   "metadata": {},
   "outputs": [],
   "source": [
    "tc = TopCoder()"
   ]
  },
  {
   "cell_type": "code",
   "execution_count": null,
   "metadata": {},
   "outputs": [],
   "source": [
    "meta_inputs = tf.keras.Input(shape=(36,), name='meta_data_input')\n",
    "bert_inputs = tf.keras.Input(shape=(48,), name='pool_bert_input')\n",
    "\n",
    "concat = tf.keras.layers.concatenate([bert_inputs, meta_inputs], name='concat')\n",
    "dense = tf.keras.layers.Dense(512, activation='relu', name='pre_regression')(concat)\n",
    "\n",
    "score_output = tf.keras.layers.Dense(4, name='score')(dense)\n",
    "registration_output = tf.keras.layers.Dense(1, name='registration')(dense)\n",
    "sub_reg_output = tf.keras.layers.Dense(1, name='sub_reg_ratio')(dense)\n",
    "\n",
    "mtl_model = tf.keras.Model(inputs=[bert_inputs, meta_inputs], outputs=[score_output, registration_output, sub_reg_output])\n",
    "\n",
    "tf.keras.utils.plot_model(mtl_model, to_file='model_arch/tmp.png', show_shapes=True)"
   ]
  }
 ],
 "metadata": {
  "kernelspec": {
   "display_name": "Python (BERT TCPM)",
   "language": "python",
   "name": "bert_tcpm"
  },
  "language_info": {
   "codemirror_mode": {
    "name": "ipython",
    "version": 3
   },
   "file_extension": ".py",
   "mimetype": "text/x-python",
   "name": "python",
   "nbconvert_exporter": "python",
   "pygments_lexer": "ipython3",
   "version": "3.7.8"
  }
 },
 "nbformat": 4,
 "nbformat_minor": 4
}
