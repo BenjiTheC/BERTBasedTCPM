{
 "cells": [
  {
   "cell_type": "code",
   "execution_count": null,
   "metadata": {},
   "outputs": [],
   "source": [
    "\"\"\" Notebook for final model building evaluation\"\"\"\n",
    "\n",
    "import os\n",
    "import json\n",
    "from pprint import pprint\n",
    "from datetime import datetime\n",
    "from collections import defaultdict\n",
    "\n",
    "import numpy as np\n",
    "import pandas as pd\n",
    "\n",
    "import matplotlib.pyplot as plt\n",
    "import seaborn as sns\n",
    "\n",
    "import tensorflow as tf\n",
    "from sklearn.ensemble import GradientBoostingRegressor\n",
    "from sklearn.preprocessing import StandardScaler, Normalizer, scale, normalize\n",
    "from sklearn.model_selection import (\n",
    "    cross_val_predict,\n",
    "    cross_val_score,\n",
    "    cross_validate,\n",
    "    KFold\n",
    ")\n",
    "from sklearn.metrics import (\n",
    "    mean_squared_error,\n",
    "    mean_absolute_error,\n",
    "    r2_score,\n",
    "    make_scorer,\n",
    ")\n",
    "from sklearn.pipeline import make_pipeline\n",
    "\n",
    "from dotenv import load_dotenv\n",
    "\n",
    "from tc_data import TopCoder\n",
    "from final_model_selection import (\n",
    "    kfold_predict_validate_gradient_boosting,\n",
    "    kfold_predict_validate_neural_network\n",
    ")\n",
    "\n",
    "load_dotenv()\n",
    "pd.set_option('display.max_rows', 800)"
   ]
  },
  {
   "cell_type": "markdown",
   "metadata": {},
   "source": [
    "## Get the data object\n",
    "\n",
    "`TopCoder` class contain the pre-processed data retrieved from data base."
   ]
  },
  {
   "cell_type": "code",
   "execution_count": null,
   "metadata": {
    "scrolled": true
   },
   "outputs": [],
   "source": [
    "tc = TopCoder()"
   ]
  },
  {
   "cell_type": "markdown",
   "metadata": {},
   "source": [
    "### AVG SCORE"
   ]
  },
  {
   "cell_type": "code",
   "execution_count": null,
   "metadata": {},
   "outputs": [],
   "source": [
    "X, y = tc.build_final_dataset('avg_score')\n",
    "X.shape, y.shape"
   ]
  },
  {
   "cell_type": "code",
   "execution_count": null,
   "metadata": {},
   "outputs": [],
   "source": [
    "gb_y_pred, gb_cv_eval_df, gb_manual_score = kfold_predict_validate_gradient_boosting(X, y)\n",
    "nn_y_pred, nn_cv_eval_df, nn_manual_score = kfold_predict_validate_neural_network(X, y)"
   ]
  },
  {
   "cell_type": "code",
   "execution_count": null,
   "metadata": {},
   "outputs": [],
   "source": [
    "cv_mean_df = pd.concat([\n",
    "    gb_cv_eval_df.mean().rename('Gradient Boosting CV Mean'),\n",
    "    nn_cv_eval_df.mean().rename('Neural Network CV Mean')\n",
    "], axis=1)\n",
    "cv_mean_df"
   ]
  },
  {
   "cell_type": "code",
   "execution_count": null,
   "metadata": {},
   "outputs": [],
   "source": [
    "manual_pred_df = pd.concat([\n",
    "    pd.Series(gb_manual_score).round(6).rename('Gradient Boosting Manual Score'),\n",
    "    pd.Series(nn_manual_score).round(6).rename('Neural Network Manual Score'),\n",
    "], axis=1)\n",
    "manual_pred_df"
   ]
  },
  {
   "cell_type": "code",
   "execution_count": null,
   "metadata": {
    "scrolled": false
   },
   "outputs": [],
   "source": [
    "with sns.axes_style('darkgrid'):\n",
    "    fig, axes = plt.subplots(1, 2, figsize=(8, 4), dpi=200)\n",
    "    for i, y_pred in enumerate((gb_y_pred, nn_y_pred)):\n",
    "        ax = axes[i]\n",
    "        sns.scatterplot(\n",
    "            x=y_pred,\n",
    "            y=y,\n",
    "            s=20,\n",
    "            alpha=0.5,\n",
    "            linewidth=0.2,\n",
    "            ax=ax\n",
    "        )\n",
    "        sns.lineplot([0, 100], [0, 100], linewidth=0.8, alpha=0.5, color='red', ax=ax)\n",
    "        ax.set_xlabel('Prediction')\n",
    "        ax.set_ylabel('Groud Truth')\n",
    "        ax.set_title('Nueral Network' if i else 'Gradient Boosting')\n",
    "        \n",
    "    fig.tight_layout()"
   ]
  },
  {
   "cell_type": "markdown",
   "metadata": {},
   "source": [
    "## Number of Registration"
   ]
  },
  {
   "cell_type": "code",
   "execution_count": null,
   "metadata": {},
   "outputs": [],
   "source": [
    "X, y = tc.build_final_dataset('number_of_registration')\n",
    "X.shape, y.shape"
   ]
  },
  {
   "cell_type": "code",
   "execution_count": null,
   "metadata": {},
   "outputs": [],
   "source": [
    "gb_y_pred, gb_cv_eval_df, gb_manual_score = kfold_predict_validate_gradient_boosting(X, y, tol=4)\n",
    "nn_y_pred, nn_cv_eval_df, nn_manual_score = kfold_predict_validate_neural_network(X, y, es_min_delta=4)"
   ]
  },
  {
   "cell_type": "code",
   "execution_count": null,
   "metadata": {},
   "outputs": [],
   "source": [
    "cv_mean_df = pd.concat([\n",
    "    gb_cv_eval_df.mean().rename('Gradient Boosting CV Mean'),\n",
    "    nn_cv_eval_df.mean().rename('Neural Network CV Mean')\n",
    "], axis=1)\n",
    "cv_mean_df"
   ]
  },
  {
   "cell_type": "code",
   "execution_count": null,
   "metadata": {},
   "outputs": [],
   "source": [
    "manual_pred_df = pd.concat([\n",
    "    pd.Series(gb_manual_score).round(6).rename('Gradient Boosting Manual Score'),\n",
    "    pd.Series(nn_manual_score).round(6).rename('Neural Network Manual Score'),\n",
    "], axis=1)\n",
    "manual_pred_df"
   ]
  },
  {
   "cell_type": "code",
   "execution_count": null,
   "metadata": {
    "scrolled": true
   },
   "outputs": [],
   "source": [
    "with sns.axes_style('darkgrid'):\n",
    "    fig, axes = plt.subplots(1, 2, figsize=(8, 4), dpi=200)\n",
    "    for i, y_pred in enumerate((gb_y_pred, nn_y_pred)):\n",
    "        ax = axes[i]\n",
    "        sns.scatterplot(\n",
    "            x=y_pred,\n",
    "            y=y,\n",
    "            s=20,\n",
    "            alpha=0.5,\n",
    "            linewidth=0.2,\n",
    "            ax=ax\n",
    "        )\n",
    "        sns.lineplot([0, 300], [0, 300], linewidth=0.8, alpha=0.5, color='red', ax=ax)\n",
    "        ax.set_xlabel('Prediction')\n",
    "        ax.set_ylabel('Groud Truth')\n",
    "        ax.set_title('Nueral Network' if i else 'Gradient Boosting')\n",
    "        \n",
    "    fig.tight_layout()"
   ]
  },
  {
   "cell_type": "markdown",
   "metadata": {},
   "source": [
    "## Sub Reg Ratio"
   ]
  },
  {
   "cell_type": "code",
   "execution_count": null,
   "metadata": {},
   "outputs": [],
   "source": [
    "X, y = tc.build_final_dataset('sub_reg_ratio')\n",
    "X.shape, y.shape"
   ]
  },
  {
   "cell_type": "code",
   "execution_count": null,
   "metadata": {},
   "outputs": [],
   "source": [
    "gb_y_pred, gb_cv_eval_df, gb_manual_score = kfold_predict_validate_gradient_boosting(X, y, loss='lad', tol=0.001, n_iter_no_change=10)\n",
    "nn_y_pred, nn_cv_eval_df, nn_manual_score = kfold_predict_validate_neural_network(X, y, es_min_delta=0.001)"
   ]
  },
  {
   "cell_type": "code",
   "execution_count": null,
   "metadata": {},
   "outputs": [],
   "source": [
    "cv_mean_df = pd.concat([\n",
    "    gb_cv_eval_df.mean().rename('Gradient Boosting CV Mean'),\n",
    "    nn_cv_eval_df.mean().rename('Neural Network CV Mean')\n",
    "], axis=1)\n",
    "cv_mean_df"
   ]
  },
  {
   "cell_type": "code",
   "execution_count": null,
   "metadata": {},
   "outputs": [],
   "source": [
    "manual_pred_df = pd.concat([\n",
    "    pd.Series(gb_manual_score).round(6).rename('Gradient Boosting Manual Score'),\n",
    "    pd.Series(nn_manual_score).round(6).rename('Neural Network Manual Score'),\n",
    "], axis=1)\n",
    "manual_pred_df"
   ]
  },
  {
   "cell_type": "code",
   "execution_count": null,
   "metadata": {
    "scrolled": false
   },
   "outputs": [],
   "source": [
    "with sns.axes_style('darkgrid'):\n",
    "    fig, axes = plt.subplots(1, 2, figsize=(8, 4), dpi=200)\n",
    "    for i, y_pred in enumerate((gb_y_pred, nn_y_pred)):\n",
    "        ax = axes[i]\n",
    "        sns.scatterplot(\n",
    "            x=y_pred,\n",
    "            y=y,\n",
    "            s=20,\n",
    "            alpha=0.5,\n",
    "            linewidth=0.2,\n",
    "            ax=ax\n",
    "        )\n",
    "        sns.lineplot([0, 1], [0, 1], linewidth=0.8, alpha=0.5, color='red', ax=ax)\n",
    "        ax.set_xlabel('Prediction')\n",
    "        ax.set_ylabel('Groud Truth')\n",
    "        ax.set_title('Nueral Network' if i else 'Gradient Boosting')\n",
    "        \n",
    "    fig.tight_layout()"
   ]
  },
  {
   "cell_type": "markdown",
   "metadata": {},
   "source": [
    "## Total Prize"
   ]
  },
  {
   "cell_type": "code",
   "execution_count": null,
   "metadata": {},
   "outputs": [],
   "source": [
    "X, y = tc.build_final_dataset('total_prize')\n",
    "X.shape, y.shape"
   ]
  },
  {
   "cell_type": "code",
   "execution_count": null,
   "metadata": {},
   "outputs": [],
   "source": [
    "gb_y_pred, gb_cv_eval_df, gb_manual_score = kfold_predict_validate_gradient_boosting(X, y, loss='ls', tol=10, n_iter_no_change=5)\n",
    "nn_y_pred, nn_cv_eval_df, nn_manual_score = kfold_predict_validate_neural_network(X, y, es_min_delta=10)"
   ]
  },
  {
   "cell_type": "code",
   "execution_count": null,
   "metadata": {},
   "outputs": [],
   "source": [
    "cv_mean_df = pd.concat([\n",
    "    gb_cv_eval_df.mean().rename('Gradient Boosting CV Mean'),\n",
    "    nn_cv_eval_df.mean().rename('Neural Network CV Mean')\n",
    "], axis=1)\n",
    "cv_mean_df"
   ]
  },
  {
   "cell_type": "code",
   "execution_count": null,
   "metadata": {},
   "outputs": [],
   "source": [
    "manual_pred_df = pd.concat([\n",
    "    pd.Series(gb_manual_score).round(6).rename('Gradient Boosting Manual Score'),\n",
    "    pd.Series(nn_manual_score).round(6).rename('Neural Network Manual Score'),\n",
    "], axis=1)\n",
    "manual_pred_df"
   ]
  },
  {
   "cell_type": "code",
   "execution_count": null,
   "metadata": {},
   "outputs": [],
   "source": [
    "pd.DataFrame.from_dict({\n",
    "    ('Gradient Boosting', 'CV Mean'): gb_cv_eval_df.mean(),\n",
    "    ('Gradient Boosting', 'Full Set'):  pd.Series(gb_manual_score),\n",
    "    ('Neural Network', 'CV Mean'): nn_cv_eval_df.mean(),\n",
    "    ('Neural Network', 'Full Set'): pd.Series(nn_manual_score),\n",
    "})"
   ]
  },
  {
   "cell_type": "code",
   "execution_count": null,
   "metadata": {
    "scrolled": false
   },
   "outputs": [],
   "source": [
    "with sns.axes_style('darkgrid'):\n",
    "    fig, axes = plt.subplots(1, 2, figsize=(8, 4), dpi=200)\n",
    "    for i, y_pred in enumerate((gb_y_pred, nn_y_pred)):\n",
    "        ax = axes[i]\n",
    "        sns.scatterplot(\n",
    "            x=y_pred,\n",
    "            y=y,\n",
    "            s=20,\n",
    "            alpha=0.5,\n",
    "            linewidth=0.2,\n",
    "            ax=ax\n",
    "        )\n",
    "        sns.lineplot([0, 2500], [0, 2500], linewidth=0.8, alpha=0.5, color='red', ax=ax)\n",
    "        ax.set_xlabel('Prediction')\n",
    "        ax.set_ylabel('Groud Truth')\n",
    "        ax.set_title('Nueral Network' if i else 'Gradient Boosting')\n",
    "        \n",
    "    fig.tight_layout()"
   ]
  },
  {
   "cell_type": "markdown",
   "metadata": {},
   "source": [
    "## Try to put it all together"
   ]
  },
  {
   "cell_type": "code",
   "execution_count": null,
   "metadata": {
    "scrolled": true
   },
   "outputs": [],
   "source": [
    "hyper_param_dct = {\n",
    "    'avg_score': {'gb': {}, 'nn': {}},\n",
    "    'number_of_registration': {'gb': dict(tol=4), 'nn': dict(es_min_delta=4)},\n",
    "    'sub_reg_ratio': {'gb': dict(loss='lad', tol=0.001, n_iter_no_change=10), 'nn': dict(es_min_delta=0.001)},\n",
    "    'total_prize': {'gb': dict(loss='ls', tol=10, n_iter_no_change=5), 'nn': dict(es_min_delta=10)}\n",
    "}\n",
    "\n",
    "res = {}\n",
    "for target, param_dct in hyper_param_dct.items():\n",
    "    X, y = tc.build_final_dataset(target)\n",
    "    gb_y_pred, gb_cv_eval_df, gb_manual_score = kfold_predict_validate_gradient_boosting(X, y, **param_dct['gb'])\n",
    "    nn_y_pred, nn_cv_eval_df, nn_manual_score = kfold_predict_validate_neural_network(X, y, **param_dct['nn'])\n",
    "    \n",
    "    res[target] = dict(\n",
    "        y=y,\n",
    "        gb_y_pred=gb_y_pred,\n",
    "        nn_y_pred=nn_y_pred,\n",
    "        gb_cv_mean=gb_cv_eval_df.mean(),\n",
    "        nn_cv_mean=nn_cv_eval_df.mean(),\n",
    "        gb_manual=pd.Series(gb_manual_score),\n",
    "        nn_manual=pd.Series(nn_manual_score)\n",
    "    )"
   ]
  },
  {
   "cell_type": "code",
   "execution_count": null,
   "metadata": {},
   "outputs": [],
   "source": [
    "multi_idx_dct = defaultdict(dict)\n",
    "algo_name = {\n",
    "    'gb': 'Gradient Boosting',\n",
    "    'nn': 'Neural Network',\n",
    "}\n",
    "result_name = {\n",
    "    'cv_mean': 'CV Mean',\n",
    "    'manual': 'Full Set',\n",
    "}\n",
    "\n",
    "for target in res:\n",
    "    for algo in ('gb', 'nn'):\n",
    "        for result in ('cv_mean', 'manual'):\n",
    "            for metric, score in res[target][f'{algo}_{result}'].iteritems():\n",
    "                multi_idx_dct[(metric, result_name[result])][(target, algo_name[algo])] = score"
   ]
  },
  {
   "cell_type": "code",
   "execution_count": null,
   "metadata": {},
   "outputs": [],
   "source": [
    "prediction_metrics = pd.DataFrame.from_dict(multi_idx_dct, orient='index').sort_index()\n",
    "prediction_metrics"
   ]
  },
  {
   "cell_type": "code",
   "execution_count": null,
   "metadata": {
    "scrolled": false
   },
   "outputs": [],
   "source": [
    "endpoint = [100, 300, 1, 2500]\n",
    "\n",
    "with sns.axes_style('darkgrid'):\n",
    "    fig, axes = plt.subplots(4, 2, figsize=(8, 16), dpi=200)\n",
    "    for i, (target, predict_res) in enumerate(res.items()):\n",
    "        for j, (algo, title) in enumerate(algo_name.items()):\n",
    "            ax = axes[i, j]\n",
    "            sns.scatterplot(\n",
    "                x=predict_res[f'{algo}_y_pred'],\n",
    "                y=predict_res['y'],\n",
    "                s=20,\n",
    "                alpha=0.5,\n",
    "                linewidth=0.1,\n",
    "                ax=ax,\n",
    "            )\n",
    "            sns.lineplot(\n",
    "                x=[0, endpoint[i]],\n",
    "                y=[0, endpoint[i]],\n",
    "                color='red',\n",
    "                alpha=0.75,\n",
    "                ax=ax,\n",
    "            )\n",
    "            ax.set_title(f'{target.capitalize()} - {title}')\n",
    "            ax.set_xlabel('Prediction')\n",
    "            ax.set_ylabel('Ground Truth')\n",
    "    fig.tight_layout()\n",
    "    \n",
    "#     fig.savefig('./result/img/pred_against_truth.png', dpi='figure')"
   ]
  }
 ],
 "metadata": {
  "kernelspec": {
   "display_name": "Python (BERT TCPM)",
   "language": "python",
   "name": "bert_tcpm"
  },
  "language_info": {
   "codemirror_mode": {
    "name": "ipython",
    "version": 3
   },
   "file_extension": ".py",
   "mimetype": "text/x-python",
   "name": "python",
   "nbconvert_exporter": "python",
   "pygments_lexer": "ipython3",
   "version": "3.7.8"
  }
 },
 "nbformat": 4,
 "nbformat_minor": 4
}
