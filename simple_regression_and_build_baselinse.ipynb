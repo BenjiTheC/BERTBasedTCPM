{
 "cells": [
  {
   "cell_type": "code",
   "execution_count": null,
   "metadata": {},
   "outputs": [],
   "source": [
    "\"\"\" This notebook serve two purposes:\n",
    "    1. Build the super naive baseline\n",
    "    2. Run simple basic regression model against every y\n",
    "\"\"\"\n",
    "\n",
    "import os\n",
    "import re\n",
    "import json\n",
    "from pprint import pprint\n",
    "from datetime import datetime\n",
    "from collections import defaultdict\n",
    "\n",
    "import numpy as np\n",
    "import pandas as pd\n",
    "\n",
    "import matplotlib.pyplot as plt\n",
    "import seaborn as sns\n",
    "\n",
    "import tensorflow as tf\n",
    "\n",
    "from sklearn.linear_model import LinearRegression, Ridge, Lasso, ElasticNet, BayesianRidge\n",
    "from sklearn.svm import SVR\n",
    "from sklearn.gaussian_process import GaussianProcessRegressor\n",
    "from sklearn.isotonic import IsotonicRegression\n",
    "from sklearn.tree import DecisionTreeRegressor\n",
    "from sklearn.ensemble import RandomForestRegressor, AdaBoostRegressor, GradientBoostingRegressor\n",
    "from sklearn.neighbors import KNeighborsRegressor\n",
    "\n",
    "from sklearn.preprocessing import StandardScaler, Normalizer, scale, normalize\n",
    "from sklearn.model_selection import (\n",
    "    train_test_split,\n",
    "    cross_val_predict,\n",
    "    cross_val_score,\n",
    "    cross_validate,\n",
    "    RandomizedSearchCV,\n",
    "    KFold\n",
    ")\n",
    "from sklearn.metrics import (\n",
    "    mean_squared_error,\n",
    "    mean_absolute_error,\n",
    "    r2_score,\n",
    "    make_scorer,\n",
    ")\n",
    "from sklearn.pipeline import make_pipeline\n",
    "\n",
    "from dotenv import load_dotenv\n",
    "\n",
    "from tc_data import TopCoder\n",
    "from final_model_selection import (\n",
    "    kfold_predict_validate_gradient_boosting,\n",
    "    kfold_predict_validate_neural_network,\n",
    "    train_gb_for_production,\n",
    "    build_sequential_neural_network,\n",
    "    mre,\n",
    "    tfmre,\n",
    ")\n",
    "\n",
    "load_dotenv()\n",
    "pd.set_option('display.max_rows', 800)"
   ]
  },
  {
   "cell_type": "markdown",
   "metadata": {},
   "source": [
    "## Prepare the training data"
   ]
  },
  {
   "cell_type": "code",
   "execution_count": null,
   "metadata": {
    "scrolled": true
   },
   "outputs": [],
   "source": [
    "tc = TopCoder()"
   ]
  },
  {
   "cell_type": "code",
   "execution_count": null,
   "metadata": {},
   "outputs": [],
   "source": [
    "X, y_score = tc.build_final_dataset('avg_score')\n",
    "X, y_nreg = tc.build_final_dataset('number_of_registration')\n",
    "X, y_subra = tc.build_final_dataset('sub_reg_ratio')\n",
    "\n",
    "X_price = X.copy()\n",
    "y_price = X_price.pop('total_prize')"
   ]
  },
  {
   "cell_type": "markdown",
   "metadata": {},
   "source": [
    "## Iterate the regressional models"
   ]
  },
  {
   "cell_type": "code",
   "execution_count": null,
   "metadata": {},
   "outputs": [],
   "source": [
    "def iterate_train_regressor(X, y):\n",
    "    \"\"\" Iterate through all regressors.\"\"\"\n",
    "    model_lst = [\n",
    "        LinearRegression,\n",
    "        Ridge,\n",
    "        Lasso,\n",
    "        ElasticNet,\n",
    "        BayesianRidge,\n",
    "        SVR,\n",
    "        GaussianProcessRegressor,\n",
    "        DecisionTreeRegressor,\n",
    "        RandomForestRegressor,\n",
    "        AdaBoostRegressor,\n",
    "        GradientBoostingRegressor,\n",
    "        KNeighborsRegressor,\n",
    "    ]\n",
    "    \n",
    "    X_train, X_test, y_train, y_test = train_test_split(X, y, test_size=0.3, random_state=42)\n",
    "    X, y = X_train.to_numpy(), y_train.to_numpy()\n",
    "    \n",
    "    res = {}\n",
    "    for reg in model_lst:\n",
    "        print(f'Training {reg.__name__}...', ' ' * 50, end='\\r')\n",
    "        est = make_pipeline(StandardScaler(), reg())\n",
    "        cv_res = cross_validate(est, X, y, cv=10, return_train_score=True, scoring={\n",
    "            'mre': make_scorer(mre, greater_is_better=False),\n",
    "            'mae': make_scorer(mean_absolute_error, greater_is_better=False)\n",
    "        })\n",
    "        \n",
    "        res[reg.__name__] = {k: np.mean(np.abs(v)) for k, v in cv_res.items()}\n",
    "        \n",
    "    return res"
   ]
  },
  {
   "cell_type": "code",
   "execution_count": null,
   "metadata": {},
   "outputs": [],
   "source": [
    "df_dct = {}\n",
    "for name, X, y in [('avg_score', X, y_score), ('num_or_reg', X, y_nreg), ('sub_ratio', X, y_subra), ('price', X_price, y_price)]:\n",
    "    print(f'\\nTraining {name}...')\n",
    "    df_dct[name] = pd.DataFrame.from_dict(iterate_train_regressor(X, y), orient='index')\n",
    "    \n",
    "df_dct = {k: df.reindex(['test_mae', 'test_mre'], axis=1).rename(columns={'test_mae': 'mae', 'test_mre': 'mre'}) for k, df in df_dct.items()}"
   ]
  },
  {
   "cell_type": "code",
   "execution_count": null,
   "metadata": {},
   "outputs": [],
   "source": [
    "simple_reg_dct = {k: df.to_dict() for k, df in df_dct.items()}"
   ]
  },
  {
   "cell_type": "code",
   "execution_count": null,
   "metadata": {},
   "outputs": [],
   "source": [
    "# with open('./result/simple_regression/simple_reg_result.json', 'w') as f:\n",
    "#     json.dump(simple_reg_dct, f, indent=4)"
   ]
  },
  {
   "cell_type": "code",
   "execution_count": null,
   "metadata": {},
   "outputs": [],
   "source": [
    "model_lst = [\n",
    "    LinearRegression,\n",
    "    Ridge,\n",
    "    Lasso,\n",
    "    ElasticNet,\n",
    "    BayesianRidge,\n",
    "    SVR,\n",
    "    GaussianProcessRegressor,\n",
    "    DecisionTreeRegressor,\n",
    "    RandomForestRegressor,\n",
    "    AdaBoostRegressor,\n",
    "    GradientBoostingRegressor,\n",
    "    KNeighborsRegressor\n",
    "]\n",
    "\n",
    "model_dct = {reg.__name__: reg for reg in model_lst}"
   ]
  },
  {
   "cell_type": "code",
   "execution_count": null,
   "metadata": {
    "scrolled": true
   },
   "outputs": [],
   "source": [
    "top4_reg_dct = {k: df['mre'].round(6).sort_values().head(4).to_dict() for k, df in df_dct.items()}\n",
    "top4_reg_dct"
   ]
  },
  {
   "cell_type": "code",
   "execution_count": null,
   "metadata": {},
   "outputs": [],
   "source": [
    "# with open('./result/simple_regression/top4_reg_dct.json', 'w') as f:\n",
    "#     json.dump(top4_reg_dct, f, indent=4)"
   ]
  },
  {
   "cell_type": "markdown",
   "metadata": {},
   "source": [
    "## Check the random search cv result"
   ]
  },
  {
   "cell_type": "code",
   "execution_count": null,
   "metadata": {},
   "outputs": [],
   "source": [
    "rs_path = './result/random_search_res/'"
   ]
  },
  {
   "cell_type": "code",
   "execution_count": null,
   "metadata": {},
   "outputs": [],
   "source": [
    "rs_score = defaultdict(dict)\n",
    "rs_param = defaultdict(dict)\n",
    "for fn in os.listdir(rs_path):\n",
    "    tokens = fn[:-5].split('_')\n",
    "    target = '_'.join(tokens[:-2])\n",
    "    algo = tokens[-2]\n",
    "\n",
    "    with open(os.path.join(rs_path, fn)) as f:\n",
    "        res_dct = json.load(f)\n",
    "        \n",
    "    rs_score[target][algo] = abs(res_dct['best_score_in_rs'])\n",
    "    rs_param[target][algo] = res_dct['best_params']"
   ]
  },
  {
   "cell_type": "code",
   "execution_count": null,
   "metadata": {},
   "outputs": [],
   "source": [
    "with open('./result/simple_regression/top4_reg_dct.json') as f:\n",
    "    top4_reg_dct = json.load(f)\n",
    "    top4_reg_dct.pop('price')"
   ]
  },
  {
   "cell_type": "code",
   "execution_count": null,
   "metadata": {},
   "outputs": [],
   "source": [
    "rs_result_comparison = {}\n",
    "for target in top4_reg_dct:\n",
    "    rs_result_comparison[target] = pd.DataFrame.from_dict({\n",
    "        'simple': top4_reg_dct[target],\n",
    "        'rs': rs_score[target],\n",
    "    })"
   ]
  },
  {
   "cell_type": "code",
   "execution_count": null,
   "metadata": {},
   "outputs": [],
   "source": [
    "rs_result_comparison['avg_score']"
   ]
  },
  {
   "cell_type": "code",
   "execution_count": null,
   "metadata": {},
   "outputs": [],
   "source": [
    "rs_result_comparison['number_of_registration']"
   ]
  },
  {
   "cell_type": "code",
   "execution_count": null,
   "metadata": {},
   "outputs": [],
   "source": [
    "rs_result_comparison['sub_reg_ratio']"
   ]
  },
  {
   "cell_type": "code",
   "execution_count": null,
   "metadata": {},
   "outputs": [],
   "source": [
    "rs_param['avg_score']['RandomForestRegressor']"
   ]
  },
  {
   "cell_type": "code",
   "execution_count": null,
   "metadata": {},
   "outputs": [],
   "source": [
    "rfs = RandomForestRegressor(n_jobs=-1, verbose=1, random_state=42, bootstrap=True, **rs_param['avg_score']['RandomForestRegressor'])"
   ]
  },
  {
   "cell_type": "code",
   "execution_count": null,
   "metadata": {},
   "outputs": [],
   "source": [
    "rfs"
   ]
  },
  {
   "cell_type": "code",
   "execution_count": null,
   "metadata": {},
   "outputs": [],
   "source": []
  }
 ],
 "metadata": {
  "kernelspec": {
   "display_name": "Python (BERT TCPM)",
   "language": "python",
   "name": "bert_tcpm"
  },
  "language_info": {
   "codemirror_mode": {
    "name": "ipython",
    "version": 3
   },
   "file_extension": ".py",
   "mimetype": "text/x-python",
   "name": "python",
   "nbconvert_exporter": "python",
   "pygments_lexer": "ipython3",
   "version": "3.7.9"
  }
 },
 "nbformat": 4,
 "nbformat_minor": 4
}
