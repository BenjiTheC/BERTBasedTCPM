{
 "cells": [
  {
   "cell_type": "code",
   "execution_count": null,
   "metadata": {
    "tags": []
   },
   "outputs": [],
   "source": [
    "\"\"\" Just a work bench\"\"\"\n",
    "import os\n",
    "import json\n",
    "import re\n",
    "from typing import List\n",
    "from pprint import pprint\n",
    "from datetime import datetime\n",
    "\n",
    "from dotenv import load_dotenv\n",
    "\n",
    "import numpy as np\n",
    "import pandas as pd\n",
    "\n",
    "import matplotlib.pyplot as plt\n",
    "import seaborn as sns\n",
    "\n",
    "# import xgboost as xgb\n",
    "from transformers import BertTokenizer, AutoTokenizer, AutoConfig, TFDistilBertModel, TFBertModel, TFTrainingArguments\n",
    "import tensorflow as tf\n",
    "from sklearn.linear_model import LinearRegression, Ridge\n",
    "from sklearn.ensemble import RandomForestRegressor, GradientBoostingRegressor, AdaBoostRegressor\n",
    "from sklearn.preprocessing import PolynomialFeatures, scale, StandardScaler, Normalizer\n",
    "# from sklearn.pipeline import make_pipeline\n",
    "from sklearn.model_selection import (\n",
    "    cross_val_score,\n",
    "    cross_val_predict, \n",
    "    cross_validate, \n",
    "    KFold, \n",
    "    train_test_split,\n",
    "    GridSearchCV\n",
    ")\n",
    "from sklearn.metrics import (\n",
    "    make_scorer, \n",
    "    mean_absolute_error,\n",
    "    median_absolute_error,\n",
    "    mean_squared_error, \n",
    "    r2_score, \n",
    "    explained_variance_score\n",
    ")\n",
    "from sklearn.manifold import TSNE\n",
    "from imblearn.over_sampling import SMOTE\n",
    "from imblearn.pipeline import make_pipeline\n",
    "from smogn import smoter\n",
    "\n",
    "from gensim.models.keyedvectors import KeyedVectors\n",
    "\n",
    "from tc_data import TopCoder\n",
    "from run_classification import build_dataset\n",
    "from model_tcpm_distilbert import (\n",
    "    TCPMDistilBertClassification,\n",
    "    build_tcpm_model_distilbert_classification,\n",
    "    build_tcpm_model_distilbert_regression\n",
    ")\n",
    "from imbalanced_regression_metrics import PrecisionRecallFscoreForRegression\n",
    "from boosting_learn import EnsembleTrainer\n",
    "\n",
    "load_dotenv()\n",
    "pd.set_option('display.max_rows', 800)\n"
   ]
  },
  {
   "cell_type": "markdown",
   "metadata": {},
   "source": [
    "# New Word2Vec & Document Vectors"
   ]
  },
  {
   "cell_type": "code",
   "execution_count": null,
   "metadata": {},
   "outputs": [],
   "source": [
    "with open('result/word2vec/test_vocab.json') as f:\n",
    "    testing_points = json.load(f)"
   ]
  },
  {
   "cell_type": "code",
   "execution_count": null,
   "metadata": {},
   "outputs": [],
   "source": [
    "fn_lst = os.listdir('result/word2vec/') # unsorted\n",
    "fn_lst.remove('test_vocab.json')\n",
    "\n",
    "possible_fn = [f'w2v-epochs{e}-window{w}-init_lr{lr}.json'\n",
    "               for e in range(5, 51, 5) \n",
    "               for w in [5, 10 ,15, 20] \n",
    "               for lr in [0.025, 0.02, 0.01, 0.002]]\n",
    "\n",
    "sorted_fn = [fn for fn in possible_fn if fn in fn_lst]\n",
    "\n",
    "reg_str = r'w2v-epochs(?P<epochs>\\d+)-window(?P<window>\\d+)-init_lr(?P<lr>\\d\\.\\d+)\\.json'"
   ]
  },
  {
   "cell_type": "code",
   "execution_count": null,
   "metadata": {},
   "outputs": [],
   "source": [
    "len(sorted_fn)"
   ]
  },
  {
   "cell_type": "code",
   "execution_count": null,
   "metadata": {
    "scrolled": true
   },
   "outputs": [],
   "source": [
    "for batch in range(10):\n",
    "    with sns.axes_style('darkgrid'):\n",
    "        fig, axes = plt.subplots(4, 4, figsize=(20, 20), dpi=200)\n",
    "        epoch = (batch + 1) * 5\n",
    "        for i, fn in enumerate(sorted_fn[batch * 16: (batch * 16) + 16]):\n",
    "            ax = axes[i // 4, i % 4]\n",
    "            hyper_param = re.match(reg_str, fn).groupdict()\n",
    "            wv_df = pd.read_json(f'result/word2vec/{fn}', orient='index')        \n",
    "        \n",
    "            marksize = 5\n",
    "            sns.scatterplot(\n",
    "                data=wv_df.loc[~wv_df.label.isin(testing_points['positive'])],\n",
    "                x='x',\n",
    "                y='y',\n",
    "                alpha=0.5,\n",
    "                linewidth=0.2,\n",
    "                s=marksize,\n",
    "                ax=ax\n",
    "            )\n",
    "            sns.scatterplot(\n",
    "                data=wv_df.loc[wv_df.label.isin(testing_points['positive'])],\n",
    "                x='x',\n",
    "                y='y',\n",
    "                linewidth=0.2,\n",
    "                s=20,\n",
    "                color='red',\n",
    "                ax=ax\n",
    "            )\n",
    "            ax.set_title(' | '.join([f'{k}: {v}' for k, v in hyper_param.items()]))\n",
    "            ax.set_xlim(-100, 100)\n",
    "            ax.set_ylim(-100, 100)\n",
    "            \n",
    "        fig.tight_layout()\n",
    "        fig.savefig(f'result/img/w2v_2d_epochs{epoch}.png', dpi='figure')"
   ]
  },
  {
   "cell_type": "code",
   "execution_count": null,
   "metadata": {},
   "outputs": [],
   "source": [
    "handpick_fn_dct = [\n",
    "    (5, 20, 0.025),\n",
    "    (5, 5, 0.002),\n",
    "    (10, 5, 0.002),\n",
    "    (15, 20, 0.02),\n",
    "    (20, 20, 0.02),\n",
    "    (25, 5, 0.002),\n",
    "    (30, 10, 0.025),\n",
    "    (50, 5, 0.01)\n",
    "]"
   ]
  },
  {
   "cell_type": "code",
   "execution_count": null,
   "metadata": {},
   "outputs": [],
   "source": [
    "with sns.axes_style('darkgrid'):\n",
    "    fig, axes = plt.subplots(3, 3, figsize=(15, 15), dpi=200)\n",
    "    for i, (e, w, lr) in enumerate(handpick_fn_dct):\n",
    "        ax = axes[i // 3, i % 3]\n",
    "        wv_df = pd.read_json(f'result/word2vec/w2v-epochs{e}-window{w}-init_lr{lr}.json', orient='index')\n",
    "        \n",
    "        marksize = 5\n",
    "#         sns.scatterplot(\n",
    "#             data=wv_df.loc[~wv_df.label.isin(testing_points['positive'])],\n",
    "#             x='x',\n",
    "#             y='y',\n",
    "#             alpha=0.5,\n",
    "#             linewidth=0.2,\n",
    "#             s=marksize,\n",
    "#             ax=ax\n",
    "#         )\n",
    "        sns.scatterplot(\n",
    "            data=wv_df.loc[wv_df.label.isin(testing_points['positive'])],\n",
    "            x='x',\n",
    "            y='y',\n",
    "            linewidth=0.2,\n",
    "            s=20,\n",
    "            color='red',\n",
    "            ax=ax\n",
    "        )\n",
    "#         for idx, label, x, y in wv_df.loc[wv_df.label.isin(testing_points['positive'])].itertuples():\n",
    "#             ax.text(\n",
    "#                 x=x,\n",
    "#                 y=y,\n",
    "#                 s=label,\n",
    "#                 ha='right'\n",
    "#             )\n",
    "            \n",
    "        ax.set_title(f'epochs: {e} | window: {w} | lr: {lr}')\n",
    "        ax.set_xlim(-100, 100)\n",
    "        ax.set_ylim(-100, 100)\n",
    "\n",
    "    fig.tight_layout()\n",
    "    fig.savefig('result/img/w2v_2d_hp0.png', dpi='figure')"
   ]
  },
  {
   "cell_type": "code",
   "execution_count": null,
   "metadata": {},
   "outputs": [],
   "source": [
    "with sns.axes_style('darkgrid'):\n",
    "    fig = plt.figure(figsize=(8, 8), dpi=200)\n",
    "    ax = fig.add_axes([0.05, 0.05, 0.9, 0.9])\n",
    "    wv_df = pd.read_json(f'result/word2vec/w2v-epochs10-window5-init_lr0.002.json', orient='index')\n",
    "    data = wv_df.loc[wv_df.label.isin(testing_points['positive'])]\n",
    "\n",
    "    sns.scatterplot(\n",
    "        data=data,\n",
    "        x='x',\n",
    "        y='y',\n",
    "        linewidth=0.2,\n",
    "        s=20,\n",
    "        color='red',\n",
    "        ax=ax\n",
    "    )\n",
    "    for idx, label, x, y in data.itertuples():\n",
    "        ax.text(\n",
    "            x=x,\n",
    "            y=y,\n",
    "            s=label,\n",
    "            ha='right'\n",
    "        )\n",
    "\n",
    "    ax.set_title(f'epochs: 10 | window: 5 | lr: 0.002')\n",
    "#     ax.set_xlim(20, 40)\n",
    "#     ax.set_ylim(0, 20)"
   ]
  },
  {
   "cell_type": "markdown",
   "metadata": {},
   "source": [
    "# Showcase the data"
   ]
  },
  {
   "cell_type": "code",
   "execution_count": null,
   "metadata": {
    "scrolled": false
   },
   "outputs": [],
   "source": [
    "tc = TopCoder()"
   ]
  },
  {
   "cell_type": "code",
   "execution_count": null,
   "metadata": {},
   "outputs": [],
   "source": [
    "cha_info = tc.get_filtered_challenge_info()"
   ]
  },
  {
   "cell_type": "code",
   "execution_count": null,
   "metadata": {},
   "outputs": [],
   "source": [
    "score_rep = cha_info.reindex(['max_score', 'min_score', 'avg_score', 'std_score'], axis=1)"
   ]
  },
  {
   "cell_type": "code",
   "execution_count": null,
   "metadata": {},
   "outputs": [],
   "source": [
    "data_df = tc.get_meta_data_features(encoded_tech=True, softmax_tech=True, return_df=True).join(cha_info.reindex(['total_prize', 'avg_score', 'number_of_registration', 'sub_reg_ratio'], axis=1))\n"
   ]
  },
  {
   "cell_type": "code",
   "execution_count": null,
   "metadata": {
    "scrolled": false
   },
   "outputs": [],
   "source": [
    "cha_info.reindex(['total_prize', 'avg_score', 'number_of_registration', 'sub_reg_ratio'], axis=1).describe()"
   ]
  },
  {
   "cell_type": "code",
   "execution_count": null,
   "metadata": {},
   "outputs": [],
   "source": [
    "with sns.axes_style('darkgrid'):\n",
    "    fig, axes = plt.subplots(3, 1, figsize=(8, 6), dpi=200)\n",
    "    for i, col in enumerate(['max_score', 'min_score', 'avg_score']):\n",
    "        ax = axes[i]\n",
    "        data = score_rep[col].value_counts().sort_values(ascending=False)#.to_frame().reset_index()\n",
    "        sns.barplot(\n",
    "            x=[data[data.index >= 90].sum(), data[data.index < 90].sum()],\n",
    "            y=['>= 90', 'the rest'],\n",
    "            ax=ax\n",
    "        )\n",
    "#         ax.set_xlabel('Count of unique values')\n",
    "#         ax.set_ylabel('Cat of values')\n",
    "        ax.set_title(' '.join([w.capitalize() for w in col.split('_')]))\n",
    "    fig.tight_layout()"
   ]
  },
  {
   "cell_type": "code",
   "execution_count": null,
   "metadata": {},
   "outputs": [],
   "source": []
  },
  {
   "cell_type": "markdown",
   "metadata": {},
   "source": [
    "## Use original data for learning"
   ]
  },
  {
   "cell_type": "code",
   "execution_count": null,
   "metadata": {},
   "outputs": [],
   "source": [
    "feature_df = tc.get_meta_data_features(encoded_tech=True, softmax_tech=True, return_df=True).join(cha_info.reindex(['total_prize'], axis=1))\n",
    "num_of_reg = cha_info['number_of_registration']\n",
    "avg_score = cha_info['avg_score']\n",
    "sub_reg_ratio = cha_info['sub_reg_ratio']\n"
   ]
  },
  {
   "cell_type": "code",
   "execution_count": null,
   "metadata": {
    "scrolled": false
   },
   "outputs": [],
   "source": [
    "with sns.axes_style('whitegrid'):\n",
    "    fig = plt.figure(figsize=(16, 3), dpi=200)\n",
    "    ax = fig.add_axes([0.1, 0.1, 0.8, 0.8])\n",
    "    sns.boxplot(x=avg_score, ax=ax)\n",
    "    ax.set_xticks(list(range(10, 110, 10)))\n",
    "    \n",
    "with sns.axes_style('whitegrid'):\n",
    "    fig = plt.figure(figsize=(16, 3), dpi=200)\n",
    "    ax = fig.add_axes([0.1, 0.1, 0.8, 0.8])\n",
    "    sns.boxplot(x=num_of_reg, ax=ax)\n",
    "    ax.set_xticks(list(range(0, 310, 10)))\n",
    "    \n",
    "with sns.axes_style('whitegrid'):\n",
    "    fig = plt.figure(figsize=(16, 3), dpi=200)\n",
    "    ax = fig.add_axes([0.1, 0.1, 0.8, 0.8])\n",
    "    sns.boxplot(x=sub_reg_ratio, ax=ax)\n",
    "    ax.set_xticks(np.linspace(0, 10, 11) / 10)"
   ]
  },
  {
   "cell_type": "code",
   "execution_count": null,
   "metadata": {},
   "outputs": [],
   "source": [
    "as_vcount = avg_score.value_counts().sort_index(ascending=False)\n",
    "nr_vcount = num_of_reg.value_counts().sort_index()\n",
    "sr_vcount = sub_reg_ratio.value_counts().sort_index()"
   ]
  },
  {
   "cell_type": "code",
   "execution_count": null,
   "metadata": {
    "scrolled": true
   },
   "outputs": [],
   "source": [
    "as_vcount_agg = pd.Series(\n",
    "    [\n",
    "        as_vcount[as_vcount.index >= 90].sum(), \n",
    "        *[as_vcount[(as_vcount.index < h) & (as_vcount.index >= l)].sum() for h, l in zip(range(90, 0, -10), range(80, -1, -10))]\n",
    "    ],\n",
    "    index=['>= 90', *[f'[{i + 9}, {i}' for i in range(80, -1, -10)]]\n",
    ")\n",
    "\n",
    "nr_vcount_agg = pd.Series([\n",
    "    nr_vcount[nr_vcount.index <= 30].sum(),\n",
    "    *[nr_vcount[(nr_vcount.index >= l) & (nr_vcount.index <= h)].sum() for l, h in zip(range(31, 142, 10), range(40, 151, 10))],\n",
    "    nr_vcount[nr_vcount.index > 150].sum()\n",
    "], index=['<= 30', *[f'[{i - 9}, {i}]' for i in range(40, 151, 10)], '> 150'])\n",
    "\n",
    "sr_vcount_agg = pd.Series([\n",
    "    sr_vcount[sr_vcount.index <= 0.25].sum(),\n",
    "    *[sr_vcount[(sr_vcount.index > (l / 100)) & (sr_vcount.index <= h / 100)].sum() for l, h in zip(range(25, 100, 5), range(30, 101, 5))]\n",
    "], index=['<= 0.25', *[f'({(i - 5) / 100}, {i / 100}]' for i in range(30, 101, 5)]])"
   ]
  },
  {
   "cell_type": "code",
   "execution_count": null,
   "metadata": {},
   "outputs": [],
   "source": [
    "sr_vcount.sum(), sr_vcount_agg.sum()"
   ]
  },
  {
   "cell_type": "code",
   "execution_count": null,
   "metadata": {},
   "outputs": [],
   "source": [
    "with sns.axes_style('white'):\n",
    "    fig = plt.figure(figsize=(10, 3), dpi=200)\n",
    "    ax = fig.add_axes([0.1, 0.1, 0.8, 0.8])\n",
    "    sns.barplot(x=as_vcount_agg.index, y=as_vcount_agg, ax=ax)\n",
    "\n",
    "    for p in ax.patches:\n",
    "        text = int(p.get_height())\n",
    "        x = p.get_x() + 0.5 * p.get_width()\n",
    "        y = p.get_height() + 0.3\n",
    "        ax.text(x, y, text, ha='center')\n",
    "\n",
    "with sns.axes_style('white'):\n",
    "    fig = plt.figure(figsize=(10, 3), dpi=200)\n",
    "    ax = fig.add_axes([0.1, 0.1, 0.8, 0.8])\n",
    "    sns.barplot(x=nr_vcount_agg.index, y=nr_vcount_agg, ax=ax)\n",
    "\n",
    "    for p in ax.patches:\n",
    "        text = int(p.get_height())\n",
    "        x = p.get_x() + 0.5 * p.get_width()\n",
    "        y = p.get_height() + 0.3\n",
    "        ax.text(x, y, text, ha='center')\n",
    "\n",
    "with sns.axes_style('white'):\n",
    "    fig = plt.figure(figsize=(10, 3), dpi=200)\n",
    "    ax = fig.add_axes([0.1, 0.1, 0.8, 0.8])\n",
    "    sns.barplot(x=sr_vcount_agg.index, y=sr_vcount_agg, ax=ax)\n",
    "\n",
    "    for p in ax.patches:\n",
    "        text = int(p.get_height())\n",
    "        x = p.get_x() + 0.5 * p.get_width()\n",
    "        y = p.get_height() + 0.3\n",
    "        ax.text(x, y, text, ha='center')\n"
   ]
  },
  {
   "cell_type": "code",
   "execution_count": null,
   "metadata": {},
   "outputs": [],
   "source": [
    "prf_score = PrecisionRecallFscoreForRegression(\n",
    "    tE=0.6,\n",
    "    tL=3,\n",
    "    c=90,\n",
    "    extreme='low',\n",
    "    decay=0.1,\n",
    "    delta=1e-4\n",
    ")\n",
    "prf_score.phi(88)"
   ]
  },
  {
   "cell_type": "code",
   "execution_count": null,
   "metadata": {
    "scrolled": false
   },
   "outputs": [],
   "source": [
    "with sns.axes_style('white'):\n",
    "    fig, axes = plt.subplots(2, 1, figsize=(16, 7), dpi=200)\n",
    "    \n",
    "    sns.scatterplot(x=avg_score.to_numpy(), y=prf_score.phi(avg_score.to_numpy()), ax=axes[0], s=10)\n",
    "    \n",
    "    sns.boxplot(x=avg_score, ax=axes[1])\n",
    "    axes[1].set_xticks(list(range(10, 110, 10)))"
   ]
  },
  {
   "cell_type": "code",
   "execution_count": null,
   "metadata": {},
   "outputs": [],
   "source": [
    "prf_reg = PrecisionRecallFscoreForRegression(\n",
    "    tE=0.6,\n",
    "    tL=8,\n",
    "    c=30,\n",
    "    extreme='high',\n",
    "    decay=0.5\n",
    ")\n",
    "prf_reg.phi(31)"
   ]
  },
  {
   "cell_type": "code",
   "execution_count": null,
   "metadata": {},
   "outputs": [],
   "source": [
    "with sns.axes_style('white'):\n",
    "    fig, axes = plt.subplots(2, 1, figsize=(16, 7), dpi=200)\n",
    "    \n",
    "    sns.scatterplot(x=num_of_reg.to_numpy(), y=prf_reg.phi(num_of_reg.to_numpy()), ax=axes[0], s=10)\n",
    "    axes[0].set_xticks(list(range(0, 360, 10)))\n",
    "    sns.boxplot(x=num_of_reg, ax=axes[1])"
   ]
  },
  {
   "cell_type": "code",
   "execution_count": null,
   "metadata": {
    "scrolled": true
   },
   "outputs": [],
   "source": [
    "prf_sub = PrecisionRecallFscoreForRegression(\n",
    "    tE=0.6,\n",
    "    tL=0.07,\n",
    "    c=0.25,\n",
    "    extreme='high'\n",
    ")\n",
    "prf_sub.phi(0.3)"
   ]
  },
  {
   "cell_type": "code",
   "execution_count": null,
   "metadata": {},
   "outputs": [],
   "source": [
    "with sns.axes_style('white'):\n",
    "    fig, axes = plt.subplots(2, 1, figsize=(16, 7), dpi=200)\n",
    "    \n",
    "    sns.scatterplot(x=sub_reg_ratio.to_numpy(), y=prf_sub.phi(sub_reg_ratio.to_numpy()), ax=axes[0], s=10)\n",
    "#     axes[0].set_xticks(list(range(0, 360, 10)))\n",
    "    sns.boxplot(x=sub_reg_ratio, ax=axes[1])"
   ]
  },
  {
   "cell_type": "code",
   "execution_count": null,
   "metadata": {},
   "outputs": [],
   "source": [
    "len(avg_score) - 954"
   ]
  },
  {
   "cell_type": "code",
   "execution_count": null,
   "metadata": {},
   "outputs": [],
   "source": [
    "srr_vc = sub_reg_ratio.value_counts()\n",
    "srr_vc[srr_vc.index <= 0.25].sum(), srr_vc[srr_vc.index > 0.25].sum()"
   ]
  },
  {
   "cell_type": "code",
   "execution_count": null,
   "metadata": {},
   "outputs": [],
   "source": [
    "# num_of_reg.shape, num_of_reg[num_of_reg <= 30].shape, num_of_reg[num_of_reg > 30].shape"
   ]
  },
  {
   "cell_type": "code",
   "execution_count": null,
   "metadata": {},
   "outputs": [],
   "source": [
    "feature_df.join(pd.read_json('data/new_docvec.json', orient='index'))"
   ]
  },
  {
   "cell_type": "code",
   "execution_count": null,
   "metadata": {},
   "outputs": [],
   "source": [
    "avg_score[avg_score < 90].count(), num_of_reg[num_of_reg > 30].count(), sub_reg_ratio[sub_reg_ratio > 0.25].count()"
   ]
  },
  {
   "cell_type": "code",
   "execution_count": null,
   "metadata": {},
   "outputs": [],
   "source": [
    "test_index = pd.concat([\n",
    "    sub_reg_ratio[sub_reg_ratio <= 0.25].sample(n=636),\n",
    "    sub_reg_ratio[sub_reg_ratio > 0.25].sample(n=318)\n",
    "]).index"
   ]
  },
  {
   "cell_type": "code",
   "execution_count": null,
   "metadata": {},
   "outputs": [],
   "source": [
    "X_train = feature_df.loc[~feature_df.index.isin(test_index)].sort_index()\n",
    "X_test = feature_df.loc[feature_df.index.isin(test_index)].sort_index()\n",
    "y_train = sub_reg_ratio[~sub_reg_ratio.index.isin(test_index)].sort_index()\n",
    "y_test = sub_reg_ratio[sub_reg_ratio.index.isin(test_index)].sort_index()"
   ]
  },
  {
   "cell_type": "code",
   "execution_count": null,
   "metadata": {},
   "outputs": [],
   "source": [
    "standard_scalar = StandardScaler()\n",
    "standard_scalar.fit(X_train.to_numpy())"
   ]
  },
  {
   "cell_type": "code",
   "execution_count": null,
   "metadata": {},
   "outputs": [],
   "source": [
    "X_train_stded = standard_scalar.transform(X_train)\n",
    "X_test_stded = standard_scalar.transform(X_test)"
   ]
  },
  {
   "cell_type": "code",
   "execution_count": null,
   "metadata": {
    "scrolled": true
   },
   "outputs": [],
   "source": [
    "param_grid={\n",
    "#     'loss': ['ls', 'lad'],\n",
    "    'n_estimators': [1500, 2000, 4000],\n",
    "    'learning_rate': [1e-4, 2e-4, 2e-5, 1e-5]\n",
    "}\n",
    "\n",
    "gridscv = GridSearchCV(\n",
    "    GradientBoostingRegressor(verbose=1),\n",
    "    param_grid=param_grid,\n",
    "#     cv=3,\n",
    "#     cv=10,\n",
    "    scoring={\n",
    "        'precision': make_scorer(prf_sub.precision),\n",
    "        'recall': make_scorer(prf_sub.recall),\n",
    "        'fscore': make_scorer(prf_sub.fscore)\n",
    "    },\n",
    "    refit='fscore'\n",
    ")\n",
    "# gridscv.fit(X_train_stded, y_train.to_numpy())"
   ]
  },
  {
   "cell_type": "code",
   "execution_count": null,
   "metadata": {},
   "outputs": [],
   "source": [
    "gbr = GradientBoostingRegressor(loss='ls', n_estimators=4000, learning_rate=2e-4, validation_fraction=0.15, random_state=42, verbose=1)\n",
    "gbr.fit(X_train_stded, y_train.to_numpy())\n"
   ]
  },
  {
   "cell_type": "code",
   "execution_count": null,
   "metadata": {},
   "outputs": [],
   "source": [
    "gridscv.fit(X_train_stded, y_train.to_numpy())"
   ]
  },
  {
   "cell_type": "code",
   "execution_count": null,
   "metadata": {},
   "outputs": [],
   "source": [
    "gridscv.score(X_test_stded, y_test.to_numpy())"
   ]
  },
  {
   "cell_type": "code",
   "execution_count": null,
   "metadata": {},
   "outputs": [],
   "source": [
    "GradientBoostingRegressor().get_params()"
   ]
  },
  {
   "cell_type": "code",
   "execution_count": null,
   "metadata": {},
   "outputs": [],
   "source": [
    "gbr.score(X_train_stded, y_train.to_numpy()), gbr.score(X_test_stded, y_test.to_numpy())"
   ]
  },
  {
   "cell_type": "markdown",
   "metadata": {},
   "source": [
    "Score for `avg_score`:\n",
    "\n",
    "```python\n",
    "gbr.score(X_train_stded, y_train.to_numpy()), gbr.score(X_test_stded, y_test.to_numpy())\n",
    "# (0.46776686536131373, 0.3382982717201233)\n",
    "```\n",
    "\n",
    "A little overfitted"
   ]
  },
  {
   "cell_type": "markdown",
   "metadata": {},
   "source": [
    "Shape of `y_train` for `avg_score`:\n",
    "\n",
    "```python\n",
    "y_train[y_train >= 95].count(), y_train[y_train < 95].count()\n",
    "# (2878, 937)\n",
    "```\n",
    "\n",
    "Shape of `y_pred_train` for `avg_score`:\n",
    "\n",
    "```python\n",
    "y_pred_trained[y_pred_trained < 95].shape, y_pred_trained[y_pred_trained >= 95].shape\n",
    "# ((1363,), (2452,))\n",
    "```"
   ]
  },
  {
   "cell_type": "code",
   "execution_count": null,
   "metadata": {},
   "outputs": [],
   "source": [
    "y_pred_trained = gbr.predict(X_train_stded)\n",
    "median_absolute_error(y_train.to_numpy(), y_pred_trained)"
   ]
  },
  {
   "cell_type": "code",
   "execution_count": null,
   "metadata": {},
   "outputs": [],
   "source": [
    "y_pred_test = gbr.predict(X_test_stded)\n",
    "median_absolute_error(y_test.to_numpy(), y_pred_test)"
   ]
  },
  {
   "cell_type": "markdown",
   "metadata": {},
   "source": [
    "MAE of `y_pred_train` : 2.659448356352616\n",
    "MAE of `y_pred_test`: 3.271299264475617"
   ]
  },
  {
   "cell_type": "code",
   "execution_count": null,
   "metadata": {},
   "outputs": [],
   "source": [
    "y_pred_test[y_pred_test <= 30].shape, y_pred_test[y_pred_test > 30].shape"
   ]
  },
  {
   "cell_type": "markdown",
   "metadata": {},
   "source": [
    "Shape of `y_pred_test`: `(543, 411)`  \n",
    "Shape of `y_test`: `(636, 318)`"
   ]
  },
  {
   "cell_type": "code",
   "execution_count": null,
   "metadata": {
    "scrolled": true
   },
   "outputs": [],
   "source": [
    "np.mean(np.abs(y_test.to_numpy() - y_pred_test) / y_test.to_numpy())"
   ]
  },
  {
   "cell_type": "markdown",
   "metadata": {},
   "source": [
    "MRE of `avg_score`: 0.04"
   ]
  },
  {
   "cell_type": "markdown",
   "metadata": {},
   "source": [
    "## Use SOMGN for over-sampling"
   ]
  },
  {
   "cell_type": "code",
   "execution_count": null,
   "metadata": {},
   "outputs": [],
   "source": [
    "Xy_stded = pd.concat([pd.DataFrame(X_train_stded), y_train.reset_index(drop=True)], axis=1, ignore_index=True)\n",
    "Xy_stded.columns = [*[f'x{i}' for i in range(36)], 'y']"
   ]
  },
  {
   "cell_type": "code",
   "execution_count": null,
   "metadata": {},
   "outputs": [],
   "source": [
    "np.concatenate((X_train_stded, y_train.to_numpy().reshape(-1, 1)), axis=1)"
   ]
  },
  {
   "cell_type": "code",
   "execution_count": null,
   "metadata": {
    "scrolled": true
   },
   "outputs": [],
   "source": [
    "Xy_stded"
   ]
  },
  {
   "cell_type": "code",
   "execution_count": null,
   "metadata": {},
   "outputs": [],
   "source": [
    "oversampled_Xy = smoter(\n",
    "    data=Xy_stded,\n",
    "    y='y',\n",
    "    k=3\n",
    "#     rel_xtrm_type='high'\n",
    ")"
   ]
  },
  {
   "cell_type": "code",
   "execution_count": null,
   "metadata": {},
   "outputs": [],
   "source": [
    "oversampled_X, oversampled_y = oversampled_Xy.reindex([f'x{i}' for i in range(36)], axis=1).to_numpy(), oversampled_Xy['y'].to_numpy()\n",
    "\n",
    "oversampled_X.shape, oversampled_y.shape"
   ]
  },
  {
   "cell_type": "markdown",
   "metadata": {},
   "source": [
    "Oversample shape of `avg_score`:\n",
    "- X: (2984, 36)\n",
    "- y: (2984,)"
   ]
  },
  {
   "cell_type": "code",
   "execution_count": null,
   "metadata": {
    "scrolled": false
   },
   "outputs": [],
   "source": [
    "new_gbr = GradientBoostingRegressor(loss='ls', n_estimators=5000, learning_rate=0.0002, validation_fraction=0.2, random_state=42, verbose=1)\n",
    "new_gbr.fit(oversampled_X, oversampled_y)"
   ]
  },
  {
   "cell_type": "code",
   "execution_count": null,
   "metadata": {},
   "outputs": [],
   "source": [
    "y_pred_os = new_gbr.predict(X_test_stded)"
   ]
  },
  {
   "cell_type": "code",
   "execution_count": null,
   "metadata": {},
   "outputs": [],
   "source": [
    "mean_absolute_error(y_test.to_numpy(), y_pred_os)"
   ]
  },
  {
   "cell_type": "markdown",
   "metadata": {},
   "source": [
    "MAE of `y_pred_os` for `avg_score`: 3.6620754791688954"
   ]
  },
  {
   "cell_type": "code",
   "execution_count": null,
   "metadata": {},
   "outputs": [],
   "source": [
    "new_gbr.score(X_test_stded, y_test.to_numpy())"
   ]
  },
  {
   "cell_type": "markdown",
   "metadata": {},
   "source": [
    "r2 score of `new_gbr` for `avg_score`: 0.39"
   ]
  },
  {
   "cell_type": "code",
   "execution_count": null,
   "metadata": {},
   "outputs": [],
   "source": [
    "y_pred_os[y_pred_os <= 30].shape, y_pred_os[y_pred_os > 30].shape"
   ]
  },
  {
   "cell_type": "markdown",
   "metadata": {},
   "source": [
    "Shape of `y_pred_os` for `avg_score`: (519, 435)"
   ]
  },
  {
   "cell_type": "code",
   "execution_count": null,
   "metadata": {},
   "outputs": [],
   "source": [
    "np.mean(np.abs(y_test.to_numpy() - y_pred_os) / y_test.to_numpy())"
   ]
  },
  {
   "cell_type": "markdown",
   "metadata": {},
   "source": [
    "MRE of `y_pred_os` for `avg_score`: 0.043480902545495526"
   ]
  },
  {
   "cell_type": "code",
   "execution_count": null,
   "metadata": {
    "scrolled": false
   },
   "outputs": [],
   "source": [
    "with sns.axes_style('dark'):\n",
    "    titles = ['Prediction with original data', 'Prediction with SMOGN processed data']\n",
    "    fig, axes = plt.subplots(1, 2, figsize=(8, 4), dpi=200)\n",
    "    for i, y_pred in enumerate((y_pred_test, y_pred_os)):\n",
    "        ax = axes[i]\n",
    "        sns.scatterplot(\n",
    "            x=y_pred,\n",
    "            y=y_test.to_numpy(),\n",
    "            s=15,\n",
    "            color='orange',\n",
    "            linewidth=0.25,\n",
    "            alpha=0.75,\n",
    "            ax=ax\n",
    "        )\n",
    "        ax.set_title(titles[i])\n",
    "        ax.set_xlabel('y predict')\n",
    "        ax.set_ylabel('y true')\n",
    "        ax.axhline(y=30, color='white', linestyle='-')\n",
    "        ax.axvline(x=30, color='white', linestyle='-')\n",
    "        ax.plot([0, 100], [0, 100], linestyle='--')\n",
    "        \n",
    "    fig.tight_layout()\n",
    "    fig.savefig('result/img/num_of_reg_prediction.png', dpi='figure')"
   ]
  },
  {
   "cell_type": "code",
   "execution_count": null,
   "metadata": {},
   "outputs": [],
   "source": [
    "score_rep.drop_duplicates()"
   ]
  },
  {
   "cell_type": "code",
   "execution_count": null,
   "metadata": {},
   "outputs": [],
   "source": [
    "tsne = TSNE(n_components=2, init='pca', random_state=42, perplexity=50, n_iter=5000)\n",
    "dcomp_score_rep = tsne.fit_transform(score_rep.to_numpy())"
   ]
  },
  {
   "cell_type": "code",
   "execution_count": null,
   "metadata": {},
   "outputs": [],
   "source": [
    "dcomp_score_df = pd.DataFrame.from_dict({'x': dcomp_score_rep[:, 0], 'y': dcomp_score_rep[:, 1]})\n",
    "dcomp_score_df.index = score_rep.index"
   ]
  },
  {
   "cell_type": "code",
   "execution_count": null,
   "metadata": {},
   "outputs": [],
   "source": [
    "with sns.axes_style('darkgrid'):\n",
    "    fig = plt.figure(figsize=(4, 4), dpi=200)\n",
    "    ax = fig.add_axes([0.1, 0.1, 0.8, 0.8])\n",
    "    \n",
    "    sns.scatterplot(\n",
    "        x=dcomp_score_rep[:, 0],\n",
    "        y=dcomp_score_rep[:, 1],\n",
    "        alpha=0.5,\n",
    "        linewidth=0,\n",
    "        s=5,\n",
    "        ax=ax\n",
    "    )"
   ]
  },
  {
   "cell_type": "code",
   "execution_count": null,
   "metadata": {},
   "outputs": [],
   "source": [
    "prz_score_df = cha_info.reindex(['total_prize', 'max_score', 'min_score', 'avg_score', 'std_score'], axis=1)\n",
    "ps_mean = prz_score_df.groupby(by='total_prize').mean()\n",
    "print(f'unique prize: {len(ps_mean)}')"
   ]
  },
  {
   "cell_type": "code",
   "execution_count": null,
   "metadata": {},
   "outputs": [],
   "source": [
    "with sns.axes_style('darkgrid'):\n",
    "    fig, axes = plt.subplots(2, 2, figsize=(8, 8), dpi=200)\n",
    "    axes = [*axes[0], *axes[1]]\n",
    "    for i, col in enumerate(('max_score', 'min_score', 'avg_score', 'std_score')):\n",
    "        x_plot = np.linspace(0, 2500, 2500) # plot the polynominal regression line\n",
    "\n",
    "        reg = LinearRegression()\n",
    "        reg.fit(X=cha_info['total_prize'].to_numpy().reshape(-1, 1), y=cha_info[col].to_numpy())\n",
    "        y_line = reg.predict(x_plot.reshape(-1, 1))\n",
    "        \n",
    "        poly_reg = make_pipeline(PolynomialFeatures(degree=2), LinearRegression())\n",
    "        poly_reg.fit(X=cha_info['total_prize'].to_numpy().reshape(-1, 1), y=cha_info[col].to_numpy())\n",
    "        y_curve = poly_reg.predict(x_plot.reshape(-1, 1))\n",
    "        \n",
    "        ax = axes[i]\n",
    "        sns.scatterplot(\n",
    "            data=cha_info,\n",
    "            x='total_prize',\n",
    "            y=col,\n",
    "            s=8,\n",
    "            alpha=0.5,\n",
    "            linewidth=0,\n",
    "            ax=ax\n",
    "        )\n",
    "        sns.scatterplot(\n",
    "            x=ps_mean.index,\n",
    "            y=ps_mean[col],\n",
    "            color='green',\n",
    "            linewidth=0.2,\n",
    "            s=35,\n",
    "            ax=ax,\n",
    "        )\n",
    "        sns.lineplot(\n",
    "            x=x_plot,\n",
    "            y=y_line,\n",
    "            linewidth=1.5,\n",
    "            alpha=0.75,\n",
    "            color='orange',\n",
    "            ax=ax,\n",
    "        )\n",
    "        sns.lineplot(\n",
    "            x=x_plot,\n",
    "            y=y_curve,\n",
    "            linewidth=1.5,\n",
    "            alpha=0.75,\n",
    "            color='red',\n",
    "            ax=ax\n",
    "        )\n",
    "        \n",
    "\n",
    "        ax.set_title(' '.join([w.capitalize() for w in col.split('_')]))\n",
    "        \n",
    "    fig.tight_layout()"
   ]
  },
  {
   "cell_type": "code",
   "execution_count": null,
   "metadata": {},
   "outputs": [],
   "source": [
    "prz_reg_df = cha_info.reindex(['total_prize', 'number_of_registration', 'sub_reg_ratio'], axis=1)\n",
    "pr_mean = prz_reg_df.groupby(by='total_prize').mean()"
   ]
  },
  {
   "cell_type": "code",
   "execution_count": null,
   "metadata": {},
   "outputs": [],
   "source": [
    "with sns.axes_style('darkgrid'):\n",
    "    fig, axes = plt.subplots(1, 2, figsize=(8, 4), dpi=200)\n",
    "    x_plot = np.linspace(0, 2500, 2500)\n",
    "    \n",
    "    for i, col in enumerate(('number_of_registration', 'sub_reg_ratio')):\n",
    "        reg = LinearRegression()\n",
    "        reg.fit(X=cha_info['total_prize'].to_numpy().reshape(-1, 1), y=cha_info[col].to_numpy())\n",
    "        y_line = reg.predict(x_plot.reshape(-1, 1))\n",
    "        \n",
    "        poly_reg = make_pipeline(PolynomialFeatures(degree=3), LinearRegression())\n",
    "        poly_reg.fit(X=cha_info['total_prize'].to_numpy().reshape(-1, 1), y=cha_info[col].to_numpy())\n",
    "        y_curve = poly_reg.predict(x_plot.reshape(-1, 1))\n",
    "        \n",
    "        ax = axes[i]\n",
    "        sns.scatterplot(\n",
    "            data=cha_info,\n",
    "            x='total_prize',\n",
    "            y=col,\n",
    "            s=8,\n",
    "            alpha=0.5,\n",
    "            linewidth=0,\n",
    "            ax=ax\n",
    "        )\n",
    "        sns.lineplot(\n",
    "            x=x_plot,\n",
    "            y=y_line,\n",
    "            linewidth=1.5,\n",
    "            alpha=0.75,\n",
    "            color='orange',\n",
    "            ax=ax,\n",
    "        )\n",
    "        sns.lineplot(\n",
    "            x=x_plot,\n",
    "            y=y_curve,\n",
    "            linewidth=1.5,\n",
    "            alpha=0.75,\n",
    "            color='red',\n",
    "            ax=ax\n",
    "        )\n",
    "        sns.scatterplot(\n",
    "            x=pr_mean.index,\n",
    "            y=pr_mean[col],\n",
    "            color='green',\n",
    "            linewidth=0.2,\n",
    "            s=35,\n",
    "            ax=ax\n",
    "        )\n",
    "\n",
    "        ax.set_title(' '.join([w.capitalize() for w in col.split('_')]))\n",
    "    \n",
    "    \n",
    "    fig.tight_layout()"
   ]
  },
  {
   "cell_type": "code",
   "execution_count": null,
   "metadata": {},
   "outputs": [],
   "source": [
    "X = cha_info.reindex([\n",
    "    'number_of_platforms',\n",
    "    'number_of_technologies',\n",
    "    'project_id',\n",
    "    'challenge_duration',\n",
    "    'total_prize'\n",
    "], axis=1).join(cha_info['subtrack_category'].cat.codes.rename('subtrack_category'))"
   ]
  },
  {
   "cell_type": "code",
   "execution_count": null,
   "metadata": {},
   "outputs": [],
   "source": [
    "y = cha_info.reindex(['max_score', 'min_score', 'avg_score', 'std_score'], axis=1)"
   ]
  },
  {
   "cell_type": "code",
   "execution_count": null,
   "metadata": {},
   "outputs": [],
   "source": [
    "def mre(y_true, y_pred, sample_weight=None):\n",
    "    return np.mean(np.abs(y_true - y_pred) / y_true)"
   ]
  },
  {
   "cell_type": "code",
   "execution_count": null,
   "metadata": {},
   "outputs": [],
   "source": [
    "X_train, X_test, y_train, y_test = train_test_split(X.to_numpy(), y.to_numpy(), test_size=0.2, random_state=42)"
   ]
  },
  {
   "cell_type": "code",
   "execution_count": null,
   "metadata": {},
   "outputs": [],
   "source": [
    "# model = make_pipeline(PolynomialFeatures(degree=2), LinearRegression())\n",
    "model = RandomForestRegressor()\n",
    "model.fit(X_train, y_train)"
   ]
  },
  {
   "cell_type": "code",
   "execution_count": null,
   "metadata": {},
   "outputs": [],
   "source": [
    "pred = model.predict(X_test)"
   ]
  },
  {
   "cell_type": "code",
   "execution_count": null,
   "metadata": {},
   "outputs": [],
   "source": [
    "cosine_similarity = lambda y_true, y_pred: np.dot(y_true, y_pred) / (np.linalg.norm(y_true) * np.linalg.norm(y_pred))"
   ]
  },
  {
   "cell_type": "code",
   "execution_count": null,
   "metadata": {},
   "outputs": [],
   "source": [
    "csim = np.array([cosine_similarity(yt, yp) for yt, yp in zip(y_test, pred)])"
   ]
  },
  {
   "cell_type": "code",
   "execution_count": null,
   "metadata": {},
   "outputs": [],
   "source": [
    "csim.mean()"
   ]
  },
  {
   "cell_type": "code",
   "execution_count": null,
   "metadata": {},
   "outputs": [],
   "source": [
    "model.feature_importances_"
   ]
  },
  {
   "cell_type": "code",
   "execution_count": null,
   "metadata": {},
   "outputs": [],
   "source": []
  }
 ],
 "metadata": {
  "kernelspec": {
   "display_name": "Python (BERT TCPM)",
   "language": "python",
   "name": "bert_tcpm"
  },
  "language_info": {
   "codemirror_mode": {
    "name": "ipython",
    "version": 3
   },
   "file_extension": ".py",
   "mimetype": "text/x-python",
   "name": "python",
   "nbconvert_exporter": "python",
   "pygments_lexer": "ipython3",
   "version": "3.7.8"
  }
 },
 "nbformat": 4,
 "nbformat_minor": 4
}
