{
 "cells": [
  {
   "cell_type": "code",
   "execution_count": null,
   "metadata": {
    "tags": []
   },
   "outputs": [],
   "source": [
    "\"\"\" Just a work bench\"\"\"\n",
    "# %load_ext tensorboard\n",
    "\n",
    "import os\n",
    "import json\n",
    "from typing import List\n",
    "from pprint import pprint\n",
    "from datetime import datetime\n",
    "\n",
    "from dotenv import load_dotenv\n",
    "\n",
    "import numpy as np\n",
    "import pandas as pd\n",
    "\n",
    "import matplotlib.pyplot as plt\n",
    "import seaborn as sns\n",
    "\n",
    "from transformers import BertTokenizer, AutoTokenizer, AutoConfig, TFDistilBertModel, TFBertModel, TFTrainingArguments\n",
    "import tensorflow as tf\n",
    "from sklearn.linear_model import LinearRegression\n",
    "from sklearn.preprocessing import PolynomialFeatures\n",
    "from sklearn.pipeline import make_pipeline\n",
    "from sklearn.model_selection import cross_val_score, cross_val_predict, cross_validate, KFold\n",
    "from sklearn.metrics import make_scorer, mean_absolute_error, mean_squared_error, r2_score, explained_variance_score\n",
    "\n",
    "from tc_data import TopCoder\n",
    "from run_classification import build_dataset\n",
    "from model_tcpm_distilbert import (\n",
    "    TCPMDistilBertClassification,\n",
    "    build_tcpm_model_distilbert_classification,\n",
    "    build_tcpm_model_distilbert_regression\n",
    ")\n",
    "\n",
    "load_dotenv()\n",
    "pd.set_option('display.max_rows', 800)\n"
   ]
  },
  {
   "cell_type": "code",
   "execution_count": null,
   "metadata": {
    "scrolled": false
   },
   "outputs": [],
   "source": [
    "tc = TopCoder()"
   ]
  },
  {
   "cell_type": "code",
   "execution_count": null,
   "metadata": {},
   "outputs": [],
   "source": [
    "cha_info = tc.get_filtered_challenge_info()"
   ]
  },
  {
   "cell_type": "code",
   "execution_count": null,
   "metadata": {},
   "outputs": [],
   "source": [
    "with sns.axes_style('darkgrid'):\n",
    "    fig, axes = plt.subplots(2, 2, figsize=(8, 8), dpi=200)\n",
    "    axes = [*axes[0], *axes[1]]\n",
    "    for i, col in enumerate(('max_score', 'min_score', 'avg_score', 'std_score')):\n",
    "        x_plot = np.linspace(0, 2500, 2500) # plot the polynominal regression line\n",
    "\n",
    "        reg = LinearRegression()\n",
    "        reg.fit(X=cha_info['total_prize'].to_numpy().reshape(-1, 1), y=cha_info[col].to_numpy())\n",
    "        y_line = reg.predict(x_plot.reshape(-1, 1))\n",
    "        \n",
    "        poly_reg = make_pipeline(PolynomialFeatures(degree=2), LinearRegression())\n",
    "        poly_reg.fit(X=cha_info['total_prize'].to_numpy().reshape(-1, 1), y=cha_info[col].to_numpy())\n",
    "        y_curve = poly_reg.predict(x_plot.reshape(-1, 1))\n",
    "        \n",
    "        ax = axes[i]\n",
    "        sns.scatterplot(\n",
    "            data=cha_info,\n",
    "            x='total_prize',\n",
    "            y=col,\n",
    "            s=8,\n",
    "            alpha=0.5,\n",
    "            linewidth=0,\n",
    "            ax=ax\n",
    "        )\n",
    "        sns.lineplot(\n",
    "            x=x_plot,\n",
    "            y=y_line,\n",
    "            linewidth=1.5,\n",
    "            alpha=0.75,\n",
    "            color='orange',\n",
    "            ax=ax,\n",
    "        )\n",
    "        sns.lineplot(\n",
    "            x=x_plot,\n",
    "            y=y_curve,\n",
    "            linewidth=1.5,\n",
    "            alpha=0.75,\n",
    "            color='red',\n",
    "            ax=ax\n",
    "        )\n",
    "\n",
    "        ax.set_title(' '.join([w.capitalize() for w in col.split('_')]))\n",
    "        \n",
    "    fig.tight_layout()"
   ]
  },
  {
   "cell_type": "code",
   "execution_count": null,
   "metadata": {},
   "outputs": [],
   "source": [
    "with sns.axes_style('darkgrid'):\n",
    "    fig, axes = plt.subplots(1, 2, figsize=(8, 4), dpi=200)\n",
    "    x_plot = np.linspace(0, 2500, 2500)\n",
    "    \n",
    "    for i, col in enumerate(('number_of_registration', 'sub_reg_ratio')):\n",
    "        reg = LinearRegression()\n",
    "        reg.fit(X=cha_info['total_prize'].to_numpy().reshape(-1, 1), y=cha_info[col].to_numpy())\n",
    "        y_line = reg.predict(x_plot.reshape(-1, 1))\n",
    "        \n",
    "        poly_reg = make_pipeline(PolynomialFeatures(degree=3), LinearRegression())\n",
    "        poly_reg.fit(X=cha_info['total_prize'].to_numpy().reshape(-1, 1), y=cha_info[col].to_numpy())\n",
    "        y_curve = poly_reg.predict(x_plot.reshape(-1, 1))\n",
    "        \n",
    "        ax = axes[i]\n",
    "        sns.scatterplot(\n",
    "            data=cha_info,\n",
    "            x='total_prize',\n",
    "            y=col,\n",
    "            s=8,\n",
    "            alpha=0.5,\n",
    "            linewidth=0,\n",
    "            ax=ax\n",
    "        )\n",
    "        sns.lineplot(\n",
    "            x=x_plot,\n",
    "            y=y_line,\n",
    "            linewidth=1.5,\n",
    "            alpha=0.75,\n",
    "            color='orange',\n",
    "            ax=ax,\n",
    "        )\n",
    "        sns.lineplot(\n",
    "            x=x_plot,\n",
    "            y=y_curve,\n",
    "            linewidth=1.5,\n",
    "            alpha=0.75,\n",
    "            color='red',\n",
    "            ax=ax\n",
    "        )\n",
    "\n",
    "        ax.set_title(' '.join([w.capitalize() for w in col.split('_')]))\n",
    "    \n",
    "    \n",
    "    fig.tight_layout()"
   ]
  },
  {
   "cell_type": "code",
   "execution_count": null,
   "metadata": {},
   "outputs": [],
   "source": [
    "cha_info.columns"
   ]
  },
  {
   "cell_type": "code",
   "execution_count": null,
   "metadata": {},
   "outputs": [],
   "source": [
    "X = cha_info.reindex([\n",
    "    'number_of_platforms',\n",
    "    'number_of_technologies',\n",
    "    'project_id',\n",
    "    'challenge_duration',\n",
    "    'total_prize'\n",
    "], axis=1).join(cha_info['subtrack_category'].cat.codes.rename('subtrack_category'))"
   ]
  },
  {
   "cell_type": "code",
   "execution_count": null,
   "metadata": {},
   "outputs": [],
   "source": [
    "y = cha_info['avg_score']"
   ]
  },
  {
   "cell_type": "code",
   "execution_count": null,
   "metadata": {},
   "outputs": [],
   "source": [
    "def mre(y_true, y_pred, sample_weight=None):\n",
    "    return np.mean(np.abs(y_true - y_pred) / y_true)"
   ]
  },
  {
   "cell_type": "code",
   "execution_count": null,
   "metadata": {
    "scrolled": false
   },
   "outputs": [],
   "source": [
    "reg = make_pipeline(PolynomialFeatures(degree=2), LinearRegression())\n",
    "scores = cross_validate(\n",
    "    reg, \n",
    "    X.to_numpy(), \n",
    "    y.to_numpy(), \n",
    "    cv=10, \n",
    "    scoring={\n",
    "        'mre': make_scorer(mre, greater_is_better=False),\n",
    "        'mae': make_scorer(mean_absolute_error, greater_is_better=False),\n",
    "        'mse': make_scorer(mean_squared_error, greater_is_better=False),\n",
    "        'r2': make_scorer(r2_score),\n",
    "        'explained_var': make_scorer(explained_variance_score)\n",
    "    }\n",
    ")"
   ]
  },
  {
   "cell_type": "code",
   "execution_count": null,
   "metadata": {},
   "outputs": [],
   "source": [
    "pd.DataFrame(scores).mean().abs()"
   ]
  },
  {
   "cell_type": "code",
   "execution_count": null,
   "metadata": {},
   "outputs": [],
   "source": [
    "y.value_counts()"
   ]
  },
  {
   "cell_type": "code",
   "execution_count": null,
   "metadata": {},
   "outputs": [],
   "source": []
  }
 ],
 "metadata": {
  "kernelspec": {
   "display_name": "Python (BERT TCPM)",
   "language": "python",
   "name": "bert_tcpm"
  },
  "language_info": {
   "codemirror_mode": {
    "name": "ipython",
    "version": 3
   },
   "file_extension": ".py",
   "mimetype": "text/x-python",
   "name": "python",
   "nbconvert_exporter": "python",
   "pygments_lexer": "ipython3",
   "version": "3.7.8"
  }
 },
 "nbformat": 4,
 "nbformat_minor": 4
}
