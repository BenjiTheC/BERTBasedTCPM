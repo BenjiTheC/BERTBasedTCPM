{
 "cells": [
  {
   "cell_type": "code",
   "execution_count": null,
   "metadata": {
    "tags": []
   },
   "outputs": [],
   "source": [
    "\"\"\" Just a work bench\"\"\"\n",
    "%load_ext tensorboard\n",
    "\n",
    "import os\n",
    "import json\n",
    "from typing import List\n",
    "from pprint import pprint\n",
    "from datetime import datetime\n",
    "\n",
    "from dotenv import load_dotenv\n",
    "\n",
    "import numpy as np\n",
    "import pandas as pd\n",
    "\n",
    "import matplotlib.pyplot as plt\n",
    "import seaborn as sns\n",
    "\n",
    "from transformers import BertTokenizer, AutoTokenizer, AutoConfig, TFDistilBertModel, TFBertModel, TFTrainingArguments\n",
    "import tensorflow as tf\n",
    "from sklearn.linear_model import LinearRegression, Ridge\n",
    "from sklearn.ensemble import RandomForestRegressor\n",
    "from sklearn.preprocessing import PolynomialFeatures\n",
    "# from sklearn.pipeline import make_pipeline\n",
    "from sklearn.model_selection import cross_val_score, cross_val_predict, cross_validate, KFold, train_test_split\n",
    "from sklearn.metrics import make_scorer, mean_absolute_error, mean_squared_error, r2_score, explained_variance_score\n",
    "from sklearn.manifold import TSNE\n",
    "from imblearn.over_sampling import SMOTE\n",
    "from imblearn.pipeline import make_pipeline\n",
    "\n",
    "from tc_data import TopCoder\n",
    "from run_classification import build_dataset\n",
    "from model_tcpm_distilbert import (\n",
    "    TCPMDistilBertClassification,\n",
    "    build_tcpm_model_distilbert_classification,\n",
    "    build_tcpm_model_distilbert_regression\n",
    ")\n",
    "\n",
    "load_dotenv()\n",
    "pd.set_option('display.max_rows', 800)\n"
   ]
  },
  {
   "cell_type": "code",
   "execution_count": null,
   "metadata": {
    "scrolled": false
   },
   "outputs": [],
   "source": [
    "tc = TopCoder()"
   ]
  },
  {
   "cell_type": "code",
   "execution_count": null,
   "metadata": {},
   "outputs": [],
   "source": [
    "cha_info = tc.get_filtered_challenge_info()"
   ]
  },
  {
   "cell_type": "code",
   "execution_count": null,
   "metadata": {},
   "outputs": [],
   "source": [
    "score_rep = cha_info.reindex(['max_score', 'min_score', 'avg_score', 'std_score'], axis=1)"
   ]
  },
  {
   "cell_type": "code",
   "execution_count": null,
   "metadata": {},
   "outputs": [],
   "source": [
    "score_rep"
   ]
  },
  {
   "cell_type": "code",
   "execution_count": null,
   "metadata": {},
   "outputs": [],
   "source": [
    "with sns.axes_style('darkgrid'):\n",
    "    fig, axes = plt.subplots(4, 1, figsize=(8, 6), dpi=200)\n",
    "    for i, col in enumerate(['max_score', 'min_score', 'avg_score', 'std_score']):\n",
    "        ax = axes[i]\n",
    "        data = score_rep[col].value_counts().sort_values(ascending=False)#.to_frame().reset_index()\n",
    "        sns.barplot(\n",
    "            x=[data.iloc[0], data.iloc[1:].sum()],\n",
    "            y=['100', 'the rest'],\n",
    "            ax=ax\n",
    "        )\n",
    "#         ax.set_xlabel('Count of unique values')\n",
    "#         ax.set_ylabel('Cat of values')\n",
    "        ax.set_title(' '.join([w.capitalize() for w in col.split('_')]))\n",
    "    fig.tight_layout()"
   ]
  },
  {
   "cell_type": "code",
   "execution_count": null,
   "metadata": {},
   "outputs": [],
   "source": [
    "score_rep.drop_duplicates()"
   ]
  },
  {
   "cell_type": "code",
   "execution_count": null,
   "metadata": {},
   "outputs": [],
   "source": [
    "tsne = TSNE(n_components=2, init='pca', random_state=42, perplexity=50, n_iter=5000)\n",
    "dcomp_score_rep = tsne.fit_transform(score_rep.to_numpy())"
   ]
  },
  {
   "cell_type": "code",
   "execution_count": null,
   "metadata": {},
   "outputs": [],
   "source": [
    "dcomp_score_df = pd.DataFrame.from_dict({'x': dcomp_score_rep[:, 0], 'y': dcomp_score_rep[:, 1]})\n",
    "dcomp_score_df.index = score_rep.index"
   ]
  },
  {
   "cell_type": "code",
   "execution_count": null,
   "metadata": {},
   "outputs": [],
   "source": [
    "with sns.axes_style('darkgrid'):\n",
    "    fig = plt.figure(figsize=(4, 4), dpi=200)\n",
    "    ax = fig.add_axes([0.1, 0.1, 0.8, 0.8])\n",
    "    \n",
    "    sns.scatterplot(\n",
    "        x=dcomp_score_rep[:, 0],\n",
    "        y=dcomp_score_rep[:, 1],\n",
    "        alpha=0.5,\n",
    "        linewidth=0,\n",
    "        s=5,\n",
    "        ax=ax\n",
    "    )"
   ]
  },
  {
   "cell_type": "code",
   "execution_count": null,
   "metadata": {},
   "outputs": [],
   "source": [
    "prz_score_df = cha_info.reindex(['total_prize', 'max_score', 'min_score', 'avg_score', 'std_score'], axis=1)\n",
    "ps_mean = prz_score_df.groupby(by='total_prize').mean()\n",
    "print(f'unique prize: {len(ps_mean)}')"
   ]
  },
  {
   "cell_type": "code",
   "execution_count": null,
   "metadata": {},
   "outputs": [],
   "source": [
    "with sns.axes_style('darkgrid'):\n",
    "    fig, axes = plt.subplots(2, 2, figsize=(8, 8), dpi=200)\n",
    "    axes = [*axes[0], *axes[1]]\n",
    "    for i, col in enumerate(('max_score', 'min_score', 'avg_score', 'std_score')):\n",
    "        x_plot = np.linspace(0, 2500, 2500) # plot the polynominal regression line\n",
    "\n",
    "        reg = LinearRegression()\n",
    "        reg.fit(X=cha_info['total_prize'].to_numpy().reshape(-1, 1), y=cha_info[col].to_numpy())\n",
    "        y_line = reg.predict(x_plot.reshape(-1, 1))\n",
    "        \n",
    "        poly_reg = make_pipeline(PolynomialFeatures(degree=2), LinearRegression())\n",
    "        poly_reg.fit(X=cha_info['total_prize'].to_numpy().reshape(-1, 1), y=cha_info[col].to_numpy())\n",
    "        y_curve = poly_reg.predict(x_plot.reshape(-1, 1))\n",
    "        \n",
    "        ax = axes[i]\n",
    "        sns.scatterplot(\n",
    "            data=cha_info,\n",
    "            x='total_prize',\n",
    "            y=col,\n",
    "            s=8,\n",
    "            alpha=0.5,\n",
    "            linewidth=0,\n",
    "            ax=ax\n",
    "        )\n",
    "        sns.scatterplot(\n",
    "            x=ps_mean.index,\n",
    "            y=ps_mean[col],\n",
    "            color='green',\n",
    "            linewidth=0.2,\n",
    "            s=35,\n",
    "            ax=ax,\n",
    "        )\n",
    "        sns.lineplot(\n",
    "            x=x_plot,\n",
    "            y=y_line,\n",
    "            linewidth=1.5,\n",
    "            alpha=0.75,\n",
    "            color='orange',\n",
    "            ax=ax,\n",
    "        )\n",
    "        sns.lineplot(\n",
    "            x=x_plot,\n",
    "            y=y_curve,\n",
    "            linewidth=1.5,\n",
    "            alpha=0.75,\n",
    "            color='red',\n",
    "            ax=ax\n",
    "        )\n",
    "        \n",
    "\n",
    "        ax.set_title(' '.join([w.capitalize() for w in col.split('_')]))\n",
    "        \n",
    "    fig.tight_layout()"
   ]
  },
  {
   "cell_type": "code",
   "execution_count": null,
   "metadata": {},
   "outputs": [],
   "source": [
    "prz_reg_df = cha_info.reindex(['total_prize', 'number_of_registration', 'sub_reg_ratio'], axis=1)\n",
    "pr_mean = prz_reg_df.groupby(by='total_prize').mean()"
   ]
  },
  {
   "cell_type": "code",
   "execution_count": null,
   "metadata": {},
   "outputs": [],
   "source": [
    "with sns.axes_style('darkgrid'):\n",
    "    fig, axes = plt.subplots(1, 2, figsize=(8, 4), dpi=200)\n",
    "    x_plot = np.linspace(0, 2500, 2500)\n",
    "    \n",
    "    for i, col in enumerate(('number_of_registration', 'sub_reg_ratio')):\n",
    "        reg = LinearRegression()\n",
    "        reg.fit(X=cha_info['total_prize'].to_numpy().reshape(-1, 1), y=cha_info[col].to_numpy())\n",
    "        y_line = reg.predict(x_plot.reshape(-1, 1))\n",
    "        \n",
    "        poly_reg = make_pipeline(PolynomialFeatures(degree=3), LinearRegression())\n",
    "        poly_reg.fit(X=cha_info['total_prize'].to_numpy().reshape(-1, 1), y=cha_info[col].to_numpy())\n",
    "        y_curve = poly_reg.predict(x_plot.reshape(-1, 1))\n",
    "        \n",
    "        ax = axes[i]\n",
    "        sns.scatterplot(\n",
    "            data=cha_info,\n",
    "            x='total_prize',\n",
    "            y=col,\n",
    "            s=8,\n",
    "            alpha=0.5,\n",
    "            linewidth=0,\n",
    "            ax=ax\n",
    "        )\n",
    "        sns.lineplot(\n",
    "            x=x_plot,\n",
    "            y=y_line,\n",
    "            linewidth=1.5,\n",
    "            alpha=0.75,\n",
    "            color='orange',\n",
    "            ax=ax,\n",
    "        )\n",
    "        sns.lineplot(\n",
    "            x=x_plot,\n",
    "            y=y_curve,\n",
    "            linewidth=1.5,\n",
    "            alpha=0.75,\n",
    "            color='red',\n",
    "            ax=ax\n",
    "        )\n",
    "        sns.scatterplot(\n",
    "            x=pr_mean.index,\n",
    "            y=pr_mean[col],\n",
    "            color='green',\n",
    "            linewidth=0.2,\n",
    "            s=35,\n",
    "            ax=ax\n",
    "        )\n",
    "\n",
    "        ax.set_title(' '.join([w.capitalize() for w in col.split('_')]))\n",
    "    \n",
    "    \n",
    "    fig.tight_layout()"
   ]
  },
  {
   "cell_type": "code",
   "execution_count": null,
   "metadata": {},
   "outputs": [],
   "source": [
    "X = cha_info.reindex([\n",
    "    'number_of_platforms',\n",
    "    'number_of_technologies',\n",
    "    'project_id',\n",
    "    'challenge_duration',\n",
    "    'total_prize'\n",
    "], axis=1).join(cha_info['subtrack_category'].cat.codes.rename('subtrack_category'))"
   ]
  },
  {
   "cell_type": "code",
   "execution_count": null,
   "metadata": {},
   "outputs": [],
   "source": [
    "y = cha_info.reindex(['max_score', 'min_score', 'avg_score', 'std_score'], axis=1)"
   ]
  },
  {
   "cell_type": "code",
   "execution_count": null,
   "metadata": {},
   "outputs": [],
   "source": [
    "def mre(y_true, y_pred, sample_weight=None):\n",
    "    return np.mean(np.abs(y_true - y_pred) / y_true)"
   ]
  },
  {
   "cell_type": "code",
   "execution_count": null,
   "metadata": {},
   "outputs": [],
   "source": [
    "X_train, X_test, y_train, y_test = train_test_split(X.to_numpy(), y.to_numpy(), test_size=0.2, random_state=42)"
   ]
  },
  {
   "cell_type": "code",
   "execution_count": null,
   "metadata": {},
   "outputs": [],
   "source": [
    "# model = make_pipeline(PolynomialFeatures(degree=2), LinearRegression())\n",
    "model = RandomForestRegressor()\n",
    "model.fit(X_train, y_train)"
   ]
  },
  {
   "cell_type": "code",
   "execution_count": null,
   "metadata": {},
   "outputs": [],
   "source": [
    "pred = model.predict(X_test)"
   ]
  },
  {
   "cell_type": "code",
   "execution_count": null,
   "metadata": {},
   "outputs": [],
   "source": [
    "cosine_similarity = lambda y_true, y_pred: np.dot(y_true, y_pred) / (np.linalg.norm(y_true) * np.linalg.norm(y_pred))"
   ]
  },
  {
   "cell_type": "code",
   "execution_count": null,
   "metadata": {},
   "outputs": [],
   "source": [
    "csim = np.array([cosine_similarity(yt, yp) for yt, yp in zip(y_test, pred)])"
   ]
  },
  {
   "cell_type": "code",
   "execution_count": null,
   "metadata": {},
   "outputs": [],
   "source": [
    "csim.mean()"
   ]
  },
  {
   "cell_type": "code",
   "execution_count": null,
   "metadata": {},
   "outputs": [],
   "source": [
    "model.feature_importances_"
   ]
  },
  {
   "cell_type": "code",
   "execution_count": null,
   "metadata": {},
   "outputs": [],
   "source": [
    "meta_inputs = tf.keras.Input(shape=(36,), name='meta_data_input')\n",
    "bert_inputs = tf.keras.Input(shape=(48,), name='pool_bert_input')\n",
    "\n",
    "concat = tf.keras.layers.concatenate([bert_inputs, meta_inputs], name='concat')\n",
    "dense = tf.keras.layers.Dense(512, activation='relu', name='pre_regression')(concat)\n",
    "\n",
    "score_output = tf.keras.layers.Dense(4, name='score')(dense)\n",
    "registration_output = tf.keras.layers.Dense(1, name='registration')(dense)\n",
    "sub_reg_output = tf.keras.layers.Dense(1, name='sub_reg_ratio')(dense)\n",
    "\n",
    "mtl_model = tf.keras.Model(inputs=[bert_inputs, meta_inputs], outputs=[score_output, registration_output, sub_reg_output])\n"
   ]
  },
  {
   "cell_type": "code",
   "execution_count": null,
   "metadata": {},
   "outputs": [],
   "source": [
    "tf.keras.utils.plot_model(mtl_model, to_file='model_arch/tmp.png', show_shapes=True)"
   ]
  },
  {
   "cell_type": "code",
   "execution_count": null,
   "metadata": {},
   "outputs": [],
   "source": [
    "meta_inputs = tf.keras.Input(shape=(36,), name='meta_data_input')\n",
    "# bert_inputs = tf.keras.Input(shape=(48,), name='pool_bert_input')\n",
    "\n",
    "# concat = tf.keras.layers.concatenate([bert_inputs, meta_inputs], name='concat')\n",
    "dense = tf.keras.layers.Dense(512, activation='relu', name='pre_regression')(meta_inputs)\n",
    "\n",
    "score_output = tf.keras.layers.Dense(1, name='score')(dense)\n",
    "registration_output = tf.keras.layers.Dense(1, name='registration')(dense)\n",
    "sub_reg_output = tf.keras.layers.Dense(1, name='sub_reg_ratio')(dense)\n",
    "\n",
    "mtl_model = tf.keras.Model(inputs=meta_inputs, outputs=[score_output])#, registration_output, sub_reg_output])\n"
   ]
  },
  {
   "cell_type": "code",
   "execution_count": null,
   "metadata": {},
   "outputs": [],
   "source": [
    "tf.keras.utils.plot_model(mtl_model, to_file='model_arch/tmp.png', show_shapes=True)"
   ]
  },
  {
   "cell_type": "code",
   "execution_count": null,
   "metadata": {},
   "outputs": [],
   "source": [
    "def mre(y_true, y_pred):\n",
    "    return tf.math.abs(y_true - y_pred) / y_true"
   ]
  },
  {
   "cell_type": "code",
   "execution_count": null,
   "metadata": {},
   "outputs": [],
   "source": [
    "mtl_model.compile(\n",
    "    optimizer=tf.keras.optimizers.Adam(2e-5),\n",
    "    loss={\n",
    "        'score': tf.keras.losses.MeanSquaredError(),\n",
    "#         'registration': tf.keras.losses.MeanSquaredError(),\n",
    "#         'sub_reg_ratio': tf.keras.losses.MeanSquaredError(),\n",
    "    },\n",
    "#     loss_weights={\n",
    "#         'score': 0.2,\n",
    "#         'registration': 0.7,\n",
    "#         'sub_reg_ratio': 0.3,\n",
    "#     },\n",
    "    metrics={\n",
    "        'score': ['mae', mre],\n",
    "#         'registration': ['mae', mre],\n",
    "#         'sub_reg_ratio': ['mae', mre],\n",
    "    }\n",
    ")"
   ]
  },
  {
   "cell_type": "code",
   "execution_count": null,
   "metadata": {},
   "outputs": [],
   "source": [
    "X = tc.get_meta_data_features(encoded_tech=True, softmax_tech=True, return_df=True).join(cha_info.total_prize).to_numpy()\n",
    "y = {\n",
    "    'score': score_rep.avg_score.to_numpy(),\n",
    "#     'registration': cha_info.number_of_registration.to_numpy(),\n",
    "#     'sub_reg_ratio': cha_info.sub_reg_ratio.to_numpy(),\n",
    "}\n",
    "dataset = tf.data.Dataset.from_tensor_slices((X, y))"
   ]
  },
  {
   "cell_type": "code",
   "execution_count": null,
   "metadata": {},
   "outputs": [],
   "source": [
    "train_set, test_set = dataset.take(int(0.8 * len(score_rep))).batch(16), dataset.skip(int(0.8 * len(score_rep))).batch(8)"
   ]
  },
  {
   "cell_type": "code",
   "execution_count": null,
   "metadata": {},
   "outputs": [],
   "source": [
    "timestamp = datetime.now().strftime('%Y%m%d-%H%M%S')\n",
    "log_dir = os.path.join(os.getenv('OUTPUT_DIR'), 'logs', timestamp)\n",
    "tensorboard_cb = tf.keras.callbacks.TensorBoard(log_dir=log_dir, histogram_freq=1)"
   ]
  },
  {
   "cell_type": "code",
   "execution_count": null,
   "metadata": {},
   "outputs": [],
   "source": [
    "mtl_model.fit(train_set, verbose=0, epochs=1000, callbacks=[tensorboard_cb])"
   ]
  },
  {
   "cell_type": "code",
   "execution_count": null,
   "metadata": {},
   "outputs": [],
   "source": [
    "%tensorboard --logdir result/logs"
   ]
  },
  {
   "cell_type": "code",
   "execution_count": null,
   "metadata": {},
   "outputs": [],
   "source": [
    "result = mtl_model.evaluate(test_set, return_dict=True)"
   ]
  },
  {
   "cell_type": "code",
   "execution_count": null,
   "metadata": {},
   "outputs": [],
   "source": [
    "result"
   ]
  },
  {
   "cell_type": "code",
   "execution_count": null,
   "metadata": {},
   "outputs": [],
   "source": [
    "with sns.axes_style('dark'):\n",
    "    fig = plt.figure(figsize=(8, 4), dpi=200)\n",
    "    ax = fig.add_axes([0.1, 0.1, 0.8, 0.8])\n",
    "    \n",
    "    sns.boxplot(x=cha_info.number_of_registration, width=0.5)"
   ]
  },
  {
   "cell_type": "code",
   "execution_count": null,
   "metadata": {},
   "outputs": [],
   "source": []
  }
 ],
 "metadata": {
  "kernelspec": {
   "display_name": "Python (BERT TCPM)",
   "language": "python",
   "name": "bert_tcpm"
  },
  "language_info": {
   "codemirror_mode": {
    "name": "ipython",
    "version": 3
   },
   "file_extension": ".py",
   "mimetype": "text/x-python",
   "name": "python",
   "nbconvert_exporter": "python",
   "pygments_lexer": "ipython3",
   "version": "3.7.8"
  }
 },
 "nbformat": 4,
 "nbformat_minor": 4
}
