{
 "cells": [
  {
   "cell_type": "code",
   "execution_count": null,
   "metadata": {
    "tags": []
   },
   "outputs": [],
   "source": [
    "\"\"\" Just a work bench\"\"\"\n",
    "%load_ext tensorboard\n",
    "\n",
    "import os\n",
    "import json\n",
    "from typing import List\n",
    "from pprint import pprint\n",
    "from datetime import datetime\n",
    "\n",
    "from dotenv import load_dotenv\n",
    "\n",
    "import numpy as np\n",
    "import pandas as pd\n",
    "\n",
    "from transformers import BertTokenizer, AutoTokenizer, AutoConfig, TFDistilBertModel, TFBertModel, TFTrainingArguments\n",
    "import tensorflow as tf\n",
    "\n",
    "from tc_data import TopCoder\n",
    "from run_classification import build_dataset\n",
    "from model_tcpm_distilbert import (\n",
    "    TCPMDistilBertClassification,\n",
    "    build_tcpm_model_distilbert_classification,\n",
    "    build_tcpm_model_distilbert_regression\n",
    ")\n",
    "\n",
    "load_dotenv()\n",
    "pd.set_option('display.max_rows', 800)\n"
   ]
  },
  {
   "cell_type": "code",
   "execution_count": null,
   "metadata": {
    "scrolled": true
   },
   "outputs": [],
   "source": [
    "tc = TopCoder()"
   ]
  },
  {
   "cell_type": "code",
   "execution_count": null,
   "metadata": {},
   "outputs": [],
   "source": [
    "config = AutoConfig.from_pretrained(os.getenv('MODEL_NAME'))\n",
    "tokenizer = AutoTokenizer.from_pretrained(os.getenv('MODEL_NAME'))\n",
    "\n",
    "metadata = tc.get_meta_data_features(encoded_tech=True, softmax_tech=True, return_tensor=True)\n",
    "# encoded_txt = tc.get_bert_encoded_txt_features(tokenizer, return_tensor=True)\n",
    "target = tc.get_target(return_tensor=True)"
   ]
  },
  {
   "cell_type": "code",
   "execution_count": null,
   "metadata": {},
   "outputs": [],
   "source": [
    "ds = tf.data.Dataset.from_tensor_slices((dict(**encoded_txt, meta_input=metadata), target))"
   ]
  },
  {
   "cell_type": "code",
   "execution_count": null,
   "metadata": {},
   "outputs": [],
   "source": [
    "tech_popularity, _ = tc.calculate_tech_popularity()\n",
    "tech_popularity"
   ]
  },
  {
   "cell_type": "code",
   "execution_count": null,
   "metadata": {},
   "outputs": [],
   "source": [
    "meta_df = tc.get_meta_data_features(encoded_tech=True, softmax_tech=True, return_df=True)\n",
    "meta_df"
   ]
  },
  {
   "cell_type": "markdown",
   "metadata": {},
   "source": [
    "![regression model](regression_model.png)"
   ]
  },
  {
   "cell_type": "code",
   "execution_count": null,
   "metadata": {},
   "outputs": [],
   "source": [
    "training_history = pd.read_json('example_training_result.json', orient='index')\n",
    "training_history.index.names = ['epochs']"
   ]
  },
  {
   "cell_type": "code",
   "execution_count": null,
   "metadata": {},
   "outputs": [],
   "source": [
    "training_history"
   ]
  },
  {
   "cell_type": "code",
   "execution_count": null,
   "metadata": {},
   "outputs": [],
   "source": [
    "test_result = pd.read_json('example_result.json', orient='index')\n",
    "test_result"
   ]
  },
  {
   "cell_type": "code",
   "execution_count": null,
   "metadata": {},
   "outputs": [],
   "source": [
    "import matplotlib.pyplot as plt\n",
    "import seaborn as sns\n",
    "\n",
    "with sns.axes_style('whitegrid'):\n",
    "    fig, axes = plt.subplots(1, 2, figsize=(8, 3), dpi=200)\n",
    "    \n",
    "    sns.lineplot(\n",
    "        x=training_history.index,\n",
    "        y=training_history.mae,\n",
    "        ax=axes[0]\n",
    "    )\n",
    "    axes[0].set_title('Metrics - MAE')\n",
    "\n",
    "    sns.lineplot(\n",
    "        x=training_history.index,\n",
    "        y=training_history.mse,\n",
    "        ax=axes[1]\n",
    "    )\n",
    "    axes[1].set_title('Metrics - MSE')\n",
    "\n",
    "    fig.tight_layout()"
   ]
  },
  {
   "cell_type": "code",
   "execution_count": null,
   "metadata": {},
   "outputs": [],
   "source": [
    "model = tf.keras.Sequential([\n",
    "    tf.keras.layers.Dense(64, activation='relu', input_shape=(35,)),\n",
    "    tf.keras.layers.Dense(64, activation='relu'),\n",
    "    tf.keras.layers.Dense(64, activation='relu'),\n",
    "    tf.keras.layers.Reshape(target_shape=(1, 64), input_shape=(64,)),\n",
    "    tf.keras.layers.MaxPool1D(pool_size=4, padding='valid', data_format='channels_first'),\n",
    "    tf.keras.layers.Reshape(target_shape=(16,), input_shape=(1, 16)),\n",
    "    tf.keras.layers.Dense(1)\n",
    "], name='just_a_test')\n",
    "\n",
    "model.summary()"
   ]
  },
  {
   "cell_type": "code",
   "execution_count": null,
   "metadata": {},
   "outputs": [],
   "source": [
    "dataset = tf.data.Dataset.from_tensor_slices((metadata, target))\n",
    "dataset = dataset.shuffle(len(target))\n",
    "train_data, test_data = dataset.take(int(0.8 * len(target))), dataset.skip(int(0.8 * len(target)))"
   ]
  },
  {
   "cell_type": "code",
   "execution_count": null,
   "metadata": {},
   "outputs": [],
   "source": [
    "def mre(y_true, y_pred):\n",
    "    \"\"\" self defined MRE metrcis\"\"\"\n",
    "    return tf.math.reduce_mean(tf.math.abs(y_true - y_pred) / y_true)"
   ]
  },
  {
   "cell_type": "code",
   "execution_count": null,
   "metadata": {},
   "outputs": [],
   "source": [
    "# Tensorboard callback\n",
    "log_dir = os.path.join(os.getenv('OUTPUT_DIR'), 'logs', datetime.now().strftime(\"%Y%m%d-%H%M%S\"))\n",
    "tensorboard_cb = tf.keras.callbacks.TensorBoard(log_dir=log_dir, histogram_freq=1)"
   ]
  },
  {
   "cell_type": "code",
   "execution_count": null,
   "metadata": {},
   "outputs": [],
   "source": [
    "model.compile(\n",
    "    optimizer=tf.keras.optimizers.Adam(2e-6),\n",
    "    loss='mse',\n",
    "    metrics=[mre, 'mae'],\n",
    ")\n",
    "\n",
    "hist = model.fit(\n",
    "    train_data.batch(16),\n",
    "    verbose=0,\n",
    "    epochs=50,\n",
    "    callbacks=[tensorboard_cb],\n",
    ")"
   ]
  },
  {
   "cell_type": "code",
   "execution_count": null,
   "metadata": {},
   "outputs": [],
   "source": [
    "%tensorboard --logdir result/logs"
   ]
  },
  {
   "cell_type": "code",
   "execution_count": null,
   "metadata": {},
   "outputs": [],
   "source": [
    "l = tf.keras.layers.AveragePooling1D(pool_size=16, padding='valid', data_format='channels_first')\n",
    "# l = tf.keras.layers.Dense(64, input_shape=(64,))"
   ]
  },
  {
   "cell_type": "code",
   "execution_count": null,
   "metadata": {},
   "outputs": [],
   "source": [
    "rts = tf.constant(np.random.random(size=768), dtype=tf.float32)\n",
    "l(tf.reshape(rts, shape=(1, 1, 768)))"
   ]
  },
  {
   "cell_type": "code",
   "execution_count": null,
   "metadata": {},
   "outputs": [],
   "source": []
  },
  {
   "cell_type": "code",
   "execution_count": null,
   "metadata": {},
   "outputs": [],
   "source": []
  }
 ],
 "metadata": {
  "kernelspec": {
   "display_name": "Python 3",
   "language": "python",
   "name": "python3"
  },
  "language_info": {
   "codemirror_mode": {
    "name": "ipython",
    "version": 3
   },
   "file_extension": ".py",
   "mimetype": "text/x-python",
   "name": "python",
   "nbconvert_exporter": "python",
   "pygments_lexer": "ipython3",
   "version": "3.7.8"
  }
 },
 "nbformat": 4,
 "nbformat_minor": 4
}
